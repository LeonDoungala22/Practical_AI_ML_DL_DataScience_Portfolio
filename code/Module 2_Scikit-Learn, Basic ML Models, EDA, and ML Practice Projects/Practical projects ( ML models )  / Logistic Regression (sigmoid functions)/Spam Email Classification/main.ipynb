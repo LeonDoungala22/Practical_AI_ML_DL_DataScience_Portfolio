{
 "cells": [
  {
   "cell_type": "markdown",
   "id": "7f121a33-123c-4ed4-bf1b-f1680ca7e7a4",
   "metadata": {},
   "source": [
    "# Logistic Regression for Spam Email Classification\n"
   ]
  },
  {
   "attachments": {
    "0_igDW-qYQQh_FS0Ky.jpeg": {
     "image/jpeg": "[encoded data removed]"
    }
   },
   "cell_type": "markdown",
   "id": "41f4734e",
   "metadata": {},
   "source": [
    "![0_igDW-qYQQh_FS0Ky.jpeg](attachment:0_igDW-qYQQh_FS0Ky.jpeg)"
   ]
  },
  {
   "cell_type": "markdown",
   "id": "4deeaa59-c22f-4b17-9bf9-79d37135182d",
   "metadata": {},
   "source": [
    "## Objective\n",
    "\n",
    "Build a logistic regression model to classify emails as spam or non-spam (ham).\n",
    "\n",
    "## Dataset\n",
    "\n",
    "Download the \"Spam or Ham\" dataset from Kaggle: [Spam or Ham Dataset](https://www.kaggle.com/uciml/sms-spam-collection-dataset)\n"
   ]
  },
  {
   "cell_type": "code",
   "execution_count": 1,
   "id": "76fb9d75-4668-4dbb-8a27-0a3c25618909",
   "metadata": {
    "tags": []
   },
   "outputs": [],
   "source": [
    "import numpy as np \n",
    "import pandas as pd \n",
    "import missingno as msno \n",
    "from sklearn.metrics import confusion_matrix, precision_score, recall_score, f1_score, accuracy_score, classification_report\n",
    "from sklearn.model_selection import train_test_split, GridSearchCV\n",
    "from sklearn.feature_extraction.text import TfidfVectorizer\n",
    "from sklearn.linear_model import LogisticRegression\n",
    "import seaborn as sns\n",
    "import matplotlib.pyplot as plt \n",
    "import nltk\n",
    "from nltk.tokenize import word_tokenize\n",
    "from nltk.stem import PorterStemmer\n",
    "from nltk.corpus import stopwords\n",
    "import warnings\n",
    "\n",
    "# Set up to avoid warnings\n",
    "warnings.filterwarnings('ignore')"
   ]
  },
  {
   "cell_type": "markdown",
   "id": "1fe26491-6b0c-41c0-b513-7527244dbb8f",
   "metadata": {},
   "source": [
    "**Load the Dataset:**\n",
    "   - Download the dataset from Kaggle.\n",
    "   - Explore the dataset structure.\n",
    "   \n",
    "   --------"
   ]
  },
  {
   "cell_type": "markdown",
   "id": "6a721a78-d88c-4a2e-93db-50143c832b32",
   "metadata": {},
   "source": [
    "- Download the dataset from Kaggle."
   ]
  },
  {
   "cell_type": "code",
   "execution_count": 2,
   "id": "c89a7572-e938-4ef5-b175-63f3450f1c25",
   "metadata": {
    "tags": []
   },
   "outputs": [
    {
     "data": {
      "text/html": [
       "<div>\n",
       "<style scoped>\n",
       "    .dataframe tbody tr th:only-of-type {\n",
       "        vertical-align: middle;\n",
       "    }\n",
       "\n",
       "    .dataframe tbody tr th {\n",
       "        vertical-align: top;\n",
       "    }\n",
       "\n",
       "    .dataframe thead th {\n",
       "        text-align: right;\n",
       "    }\n",
       "</style>\n",
       "<table border=\"1\" class=\"dataframe\">\n",
       "  <thead>\n",
       "    <tr style=\"text-align: right;\">\n",
       "      <th></th>\n",
       "      <th>v1</th>\n",
       "      <th>v2</th>\n",
       "      <th>Unnamed: 2</th>\n",
       "      <th>Unnamed: 3</th>\n",
       "      <th>Unnamed: 4</th>\n",
       "    </tr>\n",
       "  </thead>\n",
       "  <tbody>\n",
       "    <tr>\n",
       "      <th>0</th>\n",
       "      <td>ham</td>\n",
       "      <td>Go until jurong point, crazy.. Available only ...</td>\n",
       "      <td>NaN</td>\n",
       "      <td>NaN</td>\n",
       "      <td>NaN</td>\n",
       "    </tr>\n",
       "    <tr>\n",
       "      <th>1</th>\n",
       "      <td>ham</td>\n",
       "      <td>Ok lar... Joking wif u oni...</td>\n",
       "      <td>NaN</td>\n",
       "      <td>NaN</td>\n",
       "      <td>NaN</td>\n",
       "    </tr>\n",
       "    <tr>\n",
       "      <th>2</th>\n",
       "      <td>spam</td>\n",
       "      <td>Free entry in 2 a wkly comp to win FA Cup fina...</td>\n",
       "      <td>NaN</td>\n",
       "      <td>NaN</td>\n",
       "      <td>NaN</td>\n",
       "    </tr>\n",
       "    <tr>\n",
       "      <th>3</th>\n",
       "      <td>ham</td>\n",
       "      <td>U dun say so early hor... U c already then say...</td>\n",
       "      <td>NaN</td>\n",
       "      <td>NaN</td>\n",
       "      <td>NaN</td>\n",
       "    </tr>\n",
       "    <tr>\n",
       "      <th>4</th>\n",
       "      <td>ham</td>\n",
       "      <td>Nah I don't think he goes to usf, he lives aro...</td>\n",
       "      <td>NaN</td>\n",
       "      <td>NaN</td>\n",
       "      <td>NaN</td>\n",
       "    </tr>\n",
       "    <tr>\n",
       "      <th>...</th>\n",
       "      <td>...</td>\n",
       "      <td>...</td>\n",
       "      <td>...</td>\n",
       "      <td>...</td>\n",
       "      <td>...</td>\n",
       "    </tr>\n",
       "    <tr>\n",
       "      <th>5567</th>\n",
       "      <td>spam</td>\n",
       "      <td>This is the 2nd time we have tried 2 contact u...</td>\n",
       "      <td>NaN</td>\n",
       "      <td>NaN</td>\n",
       "      <td>NaN</td>\n",
       "    </tr>\n",
       "    <tr>\n",
       "      <th>5568</th>\n",
       "      <td>ham</td>\n",
       "      <td>Will Ì_ b going to esplanade fr home?</td>\n",
       "      <td>NaN</td>\n",
       "      <td>NaN</td>\n",
       "      <td>NaN</td>\n",
       "    </tr>\n",
       "    <tr>\n",
       "      <th>5569</th>\n",
       "      <td>ham</td>\n",
       "      <td>Pity, * was in mood for that. So...any other s...</td>\n",
       "      <td>NaN</td>\n",
       "      <td>NaN</td>\n",
       "      <td>NaN</td>\n",
       "    </tr>\n",
       "    <tr>\n",
       "      <th>5570</th>\n",
       "      <td>ham</td>\n",
       "      <td>The guy did some bitching but I acted like i'd...</td>\n",
       "      <td>NaN</td>\n",
       "      <td>NaN</td>\n",
       "      <td>NaN</td>\n",
       "    </tr>\n",
       "    <tr>\n",
       "      <th>5571</th>\n",
       "      <td>ham</td>\n",
       "      <td>Rofl. Its true to its name</td>\n",
       "      <td>NaN</td>\n",
       "      <td>NaN</td>\n",
       "      <td>NaN</td>\n",
       "    </tr>\n",
       "  </tbody>\n",
       "</table>\n",
       "<p>5572 rows × 5 columns</p>\n",
       "</div>"
      ],
      "text/plain": [
       "        v1                                                 v2 Unnamed: 2  \\\n",
       "0      ham  Go until jurong point, crazy.. Available only ...        NaN   \n",
       "1      ham                      Ok lar... Joking wif u oni...        NaN   \n",
       "2     spam  Free entry in 2 a wkly comp to win FA Cup fina...        NaN   \n",
       "3      ham  U dun say so early hor... U c already then say...        NaN   \n",
       "4      ham  Nah I don't think he goes to usf, he lives aro...        NaN   \n",
       "...    ...                                                ...        ...   \n",
       "5567  spam  This is the 2nd time we have tried 2 contact u...        NaN   \n",
       "5568   ham              Will Ì_ b going to esplanade fr home?        NaN   \n",
       "5569   ham  Pity, * was in mood for that. So...any other s...        NaN   \n",
       "5570   ham  The guy did some bitching but I acted like i'd...        NaN   \n",
       "5571   ham                         Rofl. Its true to its name        NaN   \n",
       "\n",
       "     Unnamed: 3 Unnamed: 4  \n",
       "0           NaN        NaN  \n",
       "1           NaN        NaN  \n",
       "2           NaN        NaN  \n",
       "3           NaN        NaN  \n",
       "4           NaN        NaN  \n",
       "...         ...        ...  \n",
       "5567        NaN        NaN  \n",
       "5568        NaN        NaN  \n",
       "5569        NaN        NaN  \n",
       "5570        NaN        NaN  \n",
       "5571        NaN        NaN  \n",
       "\n",
       "[5572 rows x 5 columns]"
      ]
     },
     "execution_count": 2,
     "metadata": {},
     "output_type": "execute_result"
    }
   ],
   "source": [
    "#Import dataset \n",
    "\n",
    "df = pd.read_csv('../Spam Email Classification/Dataset/spam.csv' ,encoding='latin-1')\n",
    "df"
   ]
  },
  {
   "cell_type": "code",
   "execution_count": 3,
   "id": "169f1725-a49b-4a14-b558-653c116b7015",
   "metadata": {
    "tags": []
   },
   "outputs": [],
   "source": [
    "#Convert into dataframe\n",
    "\n",
    "df = pd.DataFrame(df)"
   ]
  },
  {
   "cell_type": "markdown",
   "id": "9ee1c340-bd19-490d-9a0c-a8ca663ffa8f",
   "metadata": {},
   "source": [
    "- Explore the dataset structure."
   ]
  },
  {
   "cell_type": "code",
   "execution_count": 4,
   "id": "4d623d46-0bec-416b-ab0f-4339084679f1",
   "metadata": {
    "tags": []
   },
   "outputs": [
    {
     "data": {
      "text/plain": [
       "(5572, 5)"
      ]
     },
     "execution_count": 4,
     "metadata": {},
     "output_type": "execute_result"
    }
   ],
   "source": [
    "#shape\n",
    "\n",
    "df.shape"
   ]
  },
  {
   "cell_type": "code",
   "execution_count": 5,
   "id": "dead41cf-e8ed-4feb-b018-eaa57fe11509",
   "metadata": {
    "tags": []
   },
   "outputs": [
    {
     "data": {
      "text/plain": [
       "v1\n",
       "ham     4825\n",
       "spam     747\n",
       "Name: count, dtype: int64"
      ]
     },
     "execution_count": 5,
     "metadata": {},
     "output_type": "execute_result"
    }
   ],
   "source": [
    "#Class distribution \n",
    "\n",
    "df['v1'].value_counts()"
   ]
  },
  {
   "cell_type": "code",
   "execution_count": 6,
   "id": "563131b4-7b6a-42a5-88be-01a0d8275d8e",
   "metadata": {
    "tags": []
   },
   "outputs": [
    {
     "data": {
      "text/plain": [
       "<Axes: >"
      ]
     },
     "execution_count": 6,
     "metadata": {},
     "output_type": "execute_result"
    },
    {
     "data": {
      "image/png": "[encoded data removed]",
      "text/plain": [
       "<Figure size 2500x1000 with 2 Axes>"
      ]
     },
     "metadata": {},
     "output_type": "display_data"
    }
   ],
   "source": [
    "#missing values matrix\n",
    "\n",
    "msno.matrix(df)"
   ]
  },
  {
   "cell_type": "code",
   "execution_count": 7,
   "id": "c2e6c35c-ed9e-4846-a0f9-3c2f1ea6fc8c",
   "metadata": {
    "tags": []
   },
   "outputs": [
    {
     "data": {
      "text/plain": [
       "<Axes: ylabel='count'>"
      ]
     },
     "execution_count": 7,
     "metadata": {},
     "output_type": "execute_result"
    },
    {
     "data": {
      "image/png": "[encoded data removed]",
      "text/plain": [
       "<Figure size 640x480 with 1 Axes>"
      ]
     },
     "metadata": {},
     "output_type": "display_data"
    }
   ],
   "source": [
    "# Plot Class distribution\n",
    "\n",
    "df['v1'].value_counts().plot.pie(autopct='%1.1f%%')"
   ]
  },
  {
   "cell_type": "code",
   "execution_count": 8,
   "id": "352771c8-61fd-4b84-90ba-b876708b2ba5",
   "metadata": {},
   "outputs": [
    {
     "data": {
      "text/plain": [
       "v1               0\n",
       "v2               0\n",
       "Unnamed: 2    5522\n",
       "Unnamed: 3    5560\n",
       "Unnamed: 4    5566\n",
       "dtype: int64"
      ]
     },
     "execution_count": 8,
     "metadata": {},
     "output_type": "execute_result"
    }
   ],
   "source": [
    "#Missing values count sorted\n",
    "\n",
    "df.isnull().sum()"
   ]
  },
  {
   "cell_type": "code",
   "execution_count": 9,
   "id": "bffdc9fb-cf93-44dd-8212-2909a9b51a2b",
   "metadata": {},
   "outputs": [],
   "source": [
    "# Handling missing values \n",
    "\n",
    "missing_col = ['Unnamed: 2', 'Unnamed: 3', 'Unnamed: 4']\n",
    "df.drop(missing_col, axis=1, inplace=True)"
   ]
  },
  {
   "cell_type": "code",
   "execution_count": 10,
   "id": "11f8bcb5-f5a4-4ce9-bebe-d5ec591a0db0",
   "metadata": {},
   "outputs": [
    {
     "data": {
      "text/html": [
       "<div>\n",
       "<style scoped>\n",
       "    .dataframe tbody tr th:only-of-type {\n",
       "        vertical-align: middle;\n",
       "    }\n",
       "\n",
       "    .dataframe tbody tr th {\n",
       "        vertical-align: top;\n",
       "    }\n",
       "\n",
       "    .dataframe thead th {\n",
       "        text-align: right;\n",
       "    }\n",
       "</style>\n",
       "<table border=\"1\" class=\"dataframe\">\n",
       "  <thead>\n",
       "    <tr style=\"text-align: right;\">\n",
       "      <th></th>\n",
       "      <th>v1</th>\n",
       "      <th>v2</th>\n",
       "    </tr>\n",
       "  </thead>\n",
       "  <tbody>\n",
       "    <tr>\n",
       "      <th>0</th>\n",
       "      <td>ham</td>\n",
       "      <td>Go until jurong point, crazy.. Available only ...</td>\n",
       "    </tr>\n",
       "    <tr>\n",
       "      <th>1</th>\n",
       "      <td>ham</td>\n",
       "      <td>Ok lar... Joking wif u oni...</td>\n",
       "    </tr>\n",
       "    <tr>\n",
       "      <th>2</th>\n",
       "      <td>spam</td>\n",
       "      <td>Free entry in 2 a wkly comp to win FA Cup fina...</td>\n",
       "    </tr>\n",
       "    <tr>\n",
       "      <th>3</th>\n",
       "      <td>ham</td>\n",
       "      <td>U dun say so early hor... U c already then say...</td>\n",
       "    </tr>\n",
       "    <tr>\n",
       "      <th>4</th>\n",
       "      <td>ham</td>\n",
       "      <td>Nah I don't think he goes to usf, he lives aro...</td>\n",
       "    </tr>\n",
       "    <tr>\n",
       "      <th>...</th>\n",
       "      <td>...</td>\n",
       "      <td>...</td>\n",
       "    </tr>\n",
       "    <tr>\n",
       "      <th>5567</th>\n",
       "      <td>spam</td>\n",
       "      <td>This is the 2nd time we have tried 2 contact u...</td>\n",
       "    </tr>\n",
       "    <tr>\n",
       "      <th>5568</th>\n",
       "      <td>ham</td>\n",
       "      <td>Will Ì_ b going to esplanade fr home?</td>\n",
       "    </tr>\n",
       "    <tr>\n",
       "      <th>5569</th>\n",
       "      <td>ham</td>\n",
       "      <td>Pity, * was in mood for that. So...any other s...</td>\n",
       "    </tr>\n",
       "    <tr>\n",
       "      <th>5570</th>\n",
       "      <td>ham</td>\n",
       "      <td>The guy did some bitching but I acted like i'd...</td>\n",
       "    </tr>\n",
       "    <tr>\n",
       "      <th>5571</th>\n",
       "      <td>ham</td>\n",
       "      <td>Rofl. Its true to its name</td>\n",
       "    </tr>\n",
       "  </tbody>\n",
       "</table>\n",
       "<p>5572 rows × 2 columns</p>\n",
       "</div>"
      ],
      "text/plain": [
       "        v1                                                 v2\n",
       "0      ham  Go until jurong point, crazy.. Available only ...\n",
       "1      ham                      Ok lar... Joking wif u oni...\n",
       "2     spam  Free entry in 2 a wkly comp to win FA Cup fina...\n",
       "3      ham  U dun say so early hor... U c already then say...\n",
       "4      ham  Nah I don't think he goes to usf, he lives aro...\n",
       "...    ...                                                ...\n",
       "5567  spam  This is the 2nd time we have tried 2 contact u...\n",
       "5568   ham              Will Ì_ b going to esplanade fr home?\n",
       "5569   ham  Pity, * was in mood for that. So...any other s...\n",
       "5570   ham  The guy did some bitching but I acted like i'd...\n",
       "5571   ham                         Rofl. Its true to its name\n",
       "\n",
       "[5572 rows x 2 columns]"
      ]
     },
     "execution_count": 10,
     "metadata": {},
     "output_type": "execute_result"
    }
   ],
   "source": [
    "df"
   ]
  },
  {
   "cell_type": "markdown",
   "id": "bb0c24aa-aa8f-4c0b-a2c0-016853d3d4ca",
   "metadata": {},
   "source": [
    "**Preprocess Text Data:**\n",
    "   - Perform necessary text preprocessing steps such as tokenization, stemming, etc.\n",
    "   _______"
   ]
  },
  {
   "cell_type": "markdown",
   "id": "0ed7a216-49f7-4bbe-acd6-eacc98b8f911",
   "metadata": {},
   "source": [
    "- Rename columns "
   ]
  },
  {
   "cell_type": "code",
   "execution_count": 11,
   "id": "b5d5ef6a-137b-4dcf-8597-c6a0a7201102",
   "metadata": {
    "tags": []
   },
   "outputs": [],
   "source": [
    "# Rename columns\n",
    "df.rename(columns={'v1': 'Class',\n",
    "                   'v2': 'email content'}, inplace=True)"
   ]
  },
  {
   "cell_type": "markdown",
   "id": "a1934ad7-7062-4e5b-9262-f8adaf4b370e",
   "metadata": {},
   "source": [
    "- Class ( labels ) Encoding"
   ]
  },
  {
   "cell_type": "markdown",
   "id": "0b784bb3-7513-4d56-aee8-dce67cfd466e",
   "metadata": {},
   "source": [
    "- **'1'** indicates that the email is classified as spam.\n",
    "- **'0'** denotes that the email is legitimate (ham).\n",
    "text\n",
    "This column contains the actual content of the email messages."
   ]
  },
  {
   "cell_type": "code",
   "execution_count": 12,
   "id": "3e3a02a0-9f50-4e79-92b7-18aef4738432",
   "metadata": {},
   "outputs": [],
   "source": [
    "df['Class'] = [1 if col == 'spam' else 0 if col == 'ham' else None for col in df['Class']]"
   ]
  },
  {
   "cell_type": "code",
   "execution_count": 13,
   "id": "db010315-1006-42e3-9141-b66cdd5dd01d",
   "metadata": {},
   "outputs": [
    {
     "data": {
      "text/html": [
       "<div>\n",
       "<style scoped>\n",
       "    .dataframe tbody tr th:only-of-type {\n",
       "        vertical-align: middle;\n",
       "    }\n",
       "\n",
       "    .dataframe tbody tr th {\n",
       "        vertical-align: top;\n",
       "    }\n",
       "\n",
       "    .dataframe thead th {\n",
       "        text-align: right;\n",
       "    }\n",
       "</style>\n",
       "<table border=\"1\" class=\"dataframe\">\n",
       "  <thead>\n",
       "    <tr style=\"text-align: right;\">\n",
       "      <th></th>\n",
       "      <th>Class</th>\n",
       "      <th>email content</th>\n",
       "    </tr>\n",
       "  </thead>\n",
       "  <tbody>\n",
       "    <tr>\n",
       "      <th>0</th>\n",
       "      <td>0</td>\n",
       "      <td>Go until jurong point, crazy.. Available only ...</td>\n",
       "    </tr>\n",
       "    <tr>\n",
       "      <th>1</th>\n",
       "      <td>0</td>\n",
       "      <td>Ok lar... Joking wif u oni...</td>\n",
       "    </tr>\n",
       "    <tr>\n",
       "      <th>2</th>\n",
       "      <td>1</td>\n",
       "      <td>Free entry in 2 a wkly comp to win FA Cup fina...</td>\n",
       "    </tr>\n",
       "    <tr>\n",
       "      <th>3</th>\n",
       "      <td>0</td>\n",
       "      <td>U dun say so early hor... U c already then say...</td>\n",
       "    </tr>\n",
       "    <tr>\n",
       "      <th>4</th>\n",
       "      <td>0</td>\n",
       "      <td>Nah I don't think he goes to usf, he lives aro...</td>\n",
       "    </tr>\n",
       "  </tbody>\n",
       "</table>\n",
       "</div>"
      ],
      "text/plain": [
       "   Class                                      email content\n",
       "0      0  Go until jurong point, crazy.. Available only ...\n",
       "1      0                      Ok lar... Joking wif u oni...\n",
       "2      1  Free entry in 2 a wkly comp to win FA Cup fina...\n",
       "3      0  U dun say so early hor... U c already then say...\n",
       "4      0  Nah I don't think he goes to usf, he lives aro..."
      ]
     },
     "execution_count": 13,
     "metadata": {},
     "output_type": "execute_result"
    }
   ],
   "source": [
    "df.head()"
   ]
  },
  {
   "cell_type": "markdown",
   "id": "9db23f87-ed60-4f4c-a94f-270231159f7b",
   "metadata": {},
   "source": [
    "- Separe features and targets "
   ]
  },
  {
   "cell_type": "code",
   "execution_count": 14,
   "id": "5aa6b32d-f3ee-4bc8-b155-38030b715928",
   "metadata": {
    "tags": []
   },
   "outputs": [],
   "source": [
    "#Features \n",
    "X = df['email content']\n",
    "\n",
    "#Target \n",
    "y = df['Class']"
   ]
  },
  {
   "cell_type": "markdown",
   "id": "e594e06e-1094-406b-bf9a-04769e43a5cb",
   "metadata": {},
   "source": [
    "- Perform necessary text preprocessing steps"
   ]
  },
  {
   "cell_type": "markdown",
   "id": "2d3cc918-759f-442a-a2da-4a433558c90a",
   "metadata": {},
   "source": [
    "[Video Tutoriel : Text Preprocessing | tokenization | cleaning | stemming | stopwords | lemmatization ](https://youtu.be/hhjn4HVEdy0)"
   ]
  },
  {
   "cell_type": "markdown",
   "id": "47ae13e4-fa1f-4127-8656-eb0a98e2245d",
   "metadata": {},
   "source": [
    "#### Text Preprocessing Steps\n",
    "\n",
    "Text data preprocessing is a crucial step in natural language processing (NLP) and machine learning tasks. It involves several key steps to prepare raw text data for analysis and modeling. Here's a brief description of each step:\n",
    "\n",
    "| Step | Process | Description |\n",
    "|------|---------|-------------|\n",
    "| 1    | Text Preprocessing | - **Lowercasing:** Convert all text to lowercase for uniformity.<br>- **Encoding:** Convert text into a suitable encoding format, such as Unicode. |\n",
    "| 2    | Tokenization | - **Tokenization:** Break the text into smaller units (tokens), such as words or phrases. |\n",
    "| 3    | Cleaning | - **Removing Special Characters:** Eliminate unnecessary characters, symbols, or punctuation marks.<br>- **Handling Contractions:** Expand contractions for consistency.<br>- **Removing HTML Tags:** Eliminate HTML tags from the text.<br>- **Handling URLs:** Remove or replace URLs. |\n",
    "| 4    | Stemming | - **Stemming:** Reduce words to their root form by removing suffixes. |\n",
    "| 5    | Stopwords | - **Removing Stopwords:** Eliminate common words that do not carry significant meaning. |\n",
    "| 6    | Lemmatization | - **Lemmatization:** Reduce words to their base or dictionary form for more meaningful analysis. |\n",
    "\n",
    "##### Example:\n",
    "\n",
    "Consider the following sentence: \"The quick brown fox jumps over the lazy dog.\"\n",
    "\n",
    "After applying the text preprocessing steps:\n",
    "\n",
    "| Step | Process | Result |\n",
    "|------|---------|--------|\n",
    "| 1    | Text Preprocessing | The quick brown fox jumps over the lazy dog. |\n",
    "| 2    | Tokenization | ['The', 'quick', 'brown', 'fox', 'jumps', 'over', 'the', 'lazy', 'dog'] |\n",
    "| 3    | Cleaning | ['quick', 'brown', 'fox', 'jumps', 'lazy', 'dog'] |\n",
    "| 4    | Stemming | ['quick', 'brown', 'fox', 'jump', 'lazi', 'dog'] |\n",
    "| 5    | Stopwords | ['quick', 'brown', 'fox', 'jump', 'lazi', 'dog'] |\n",
    "| 6    | Lemmatization | ['quick', 'brown', 'fox', 'jump', 'lazy', 'dog'] |\n",
    "\n",
    "These preprocessing steps help transform the original sentence into a more structured and meaningful representation.\n"
   ]
  },
  {
   "cell_type": "code",
   "execution_count": 15,
   "id": "7bd300d8-c8e3-498d-8ccd-d455d662c844",
   "metadata": {},
   "outputs": [
    {
     "name": "stderr",
     "output_type": "stream",
     "text": [
      "[nltk_data] Downloading package punkt to\n",
      "[nltk_data]     /Users/leondoungala/nltk_data...\n",
      "[nltk_data]   Package punkt is already up-to-date!\n",
      "[nltk_data] Downloading package stopwords to\n",
      "[nltk_data]     /Users/leondoungala/nltk_data...\n",
      "[nltk_data]   Package stopwords is already up-to-date!\n"
     ]
    },
    {
     "name": "stdout",
     "output_type": "stream",
     "text": [
      "0       [go, jurong, point, ,, crazi, .., avail, bugi,...\n",
      "1                  [ok, lar, ..., joke, wif, u, oni, ...]\n",
      "2       [free, entri, 2, wkli, comp, win, fa, cup, fin...\n",
      "3       [u, dun, say, earli, hor, ..., u, c, alreadi, ...\n",
      "4       [nah, n't, think, goe, usf, ,, live, around, t...\n",
      "                              ...                        \n",
      "5567    [2nd, time, tri, 2, contact, u., u, å£750, pou...\n",
      "5568                   [ì_, b, go, esplanad, fr, home, ?]\n",
      "5569               [piti, ,, *, mood, ., ..., suggest, ?]\n",
      "5570    [guy, bitch, act, like, 'd, interest, buy, som...\n",
      "5571                                [rofl, ., true, name]\n",
      "Name: ProcessedText, Length: 5572, dtype: object\n"
     ]
    }
   ],
   "source": [
    "\n",
    "# Download NLTK resources (if not already downloaded)\n",
    "nltk.download('punkt')\n",
    "nltk.download('stopwords')\n",
    "\n",
    "\n",
    "# Access the text data in the 'email content' column\n",
    "X = df['email content']\n",
    "\n",
    "# Tokenization\n",
    "tokens = X.apply(word_tokenize)\n",
    "\n",
    "# Convert to lowercase\n",
    "tokens = tokens.apply(lambda x: [token.lower() for token in x])\n",
    "\n",
    "# Remove stopwords\n",
    "stop_words = set(stopwords.words('english'))\n",
    "tokens = tokens.apply(lambda x: [token for token in x if token not in stop_words])\n",
    "\n",
    "# Stemming\n",
    "stemmer = PorterStemmer()\n",
    "tokens = tokens.apply(lambda x: [stemmer.stem(token) for token in x])\n",
    "\n",
    "# Resulting tokens after preprocessing\n",
    "df['ProcessedText'] = tokens\n",
    "print(df['ProcessedText'])"
   ]
  },
  {
   "cell_type": "code",
   "execution_count": 16,
   "id": "92e9ce52-23d3-4fc9-a503-000a0361f347",
   "metadata": {},
   "outputs": [
    {
     "data": {
      "text/html": [
       "<div>\n",
       "<style scoped>\n",
       "    .dataframe tbody tr th:only-of-type {\n",
       "        vertical-align: middle;\n",
       "    }\n",
       "\n",
       "    .dataframe tbody tr th {\n",
       "        vertical-align: top;\n",
       "    }\n",
       "\n",
       "    .dataframe thead th {\n",
       "        text-align: right;\n",
       "    }\n",
       "</style>\n",
       "<table border=\"1\" class=\"dataframe\">\n",
       "  <thead>\n",
       "    <tr style=\"text-align: right;\">\n",
       "      <th></th>\n",
       "      <th>Class</th>\n",
       "      <th>email content</th>\n",
       "      <th>ProcessedText</th>\n",
       "    </tr>\n",
       "  </thead>\n",
       "  <tbody>\n",
       "    <tr>\n",
       "      <th>0</th>\n",
       "      <td>0</td>\n",
       "      <td>Go until jurong point, crazy.. Available only ...</td>\n",
       "      <td>[go, jurong, point, ,, crazi, .., avail, bugi,...</td>\n",
       "    </tr>\n",
       "    <tr>\n",
       "      <th>1</th>\n",
       "      <td>0</td>\n",
       "      <td>Ok lar... Joking wif u oni...</td>\n",
       "      <td>[ok, lar, ..., joke, wif, u, oni, ...]</td>\n",
       "    </tr>\n",
       "    <tr>\n",
       "      <th>2</th>\n",
       "      <td>1</td>\n",
       "      <td>Free entry in 2 a wkly comp to win FA Cup fina...</td>\n",
       "      <td>[free, entri, 2, wkli, comp, win, fa, cup, fin...</td>\n",
       "    </tr>\n",
       "    <tr>\n",
       "      <th>3</th>\n",
       "      <td>0</td>\n",
       "      <td>U dun say so early hor... U c already then say...</td>\n",
       "      <td>[u, dun, say, earli, hor, ..., u, c, alreadi, ...</td>\n",
       "    </tr>\n",
       "    <tr>\n",
       "      <th>4</th>\n",
       "      <td>0</td>\n",
       "      <td>Nah I don't think he goes to usf, he lives aro...</td>\n",
       "      <td>[nah, n't, think, goe, usf, ,, live, around, t...</td>\n",
       "    </tr>\n",
       "    <tr>\n",
       "      <th>...</th>\n",
       "      <td>...</td>\n",
       "      <td>...</td>\n",
       "      <td>...</td>\n",
       "    </tr>\n",
       "    <tr>\n",
       "      <th>5567</th>\n",
       "      <td>1</td>\n",
       "      <td>This is the 2nd time we have tried 2 contact u...</td>\n",
       "      <td>[2nd, time, tri, 2, contact, u., u, å£750, pou...</td>\n",
       "    </tr>\n",
       "    <tr>\n",
       "      <th>5568</th>\n",
       "      <td>0</td>\n",
       "      <td>Will Ì_ b going to esplanade fr home?</td>\n",
       "      <td>[ì_, b, go, esplanad, fr, home, ?]</td>\n",
       "    </tr>\n",
       "    <tr>\n",
       "      <th>5569</th>\n",
       "      <td>0</td>\n",
       "      <td>Pity, * was in mood for that. So...any other s...</td>\n",
       "      <td>[piti, ,, *, mood, ., ..., suggest, ?]</td>\n",
       "    </tr>\n",
       "    <tr>\n",
       "      <th>5570</th>\n",
       "      <td>0</td>\n",
       "      <td>The guy did some bitching but I acted like i'd...</td>\n",
       "      <td>[guy, bitch, act, like, 'd, interest, buy, som...</td>\n",
       "    </tr>\n",
       "    <tr>\n",
       "      <th>5571</th>\n",
       "      <td>0</td>\n",
       "      <td>Rofl. Its true to its name</td>\n",
       "      <td>[rofl, ., true, name]</td>\n",
       "    </tr>\n",
       "  </tbody>\n",
       "</table>\n",
       "<p>5572 rows × 3 columns</p>\n",
       "</div>"
      ],
      "text/plain": [
       "      Class                                      email content  \\\n",
       "0         0  Go until jurong point, crazy.. Available only ...   \n",
       "1         0                      Ok lar... Joking wif u oni...   \n",
       "2         1  Free entry in 2 a wkly comp to win FA Cup fina...   \n",
       "3         0  U dun say so early hor... U c already then say...   \n",
       "4         0  Nah I don't think he goes to usf, he lives aro...   \n",
       "...     ...                                                ...   \n",
       "5567      1  This is the 2nd time we have tried 2 contact u...   \n",
       "5568      0              Will Ì_ b going to esplanade fr home?   \n",
       "5569      0  Pity, * was in mood for that. So...any other s...   \n",
       "5570      0  The guy did some bitching but I acted like i'd...   \n",
       "5571      0                         Rofl. Its true to its name   \n",
       "\n",
       "                                          ProcessedText  \n",
       "0     [go, jurong, point, ,, crazi, .., avail, bugi,...  \n",
       "1                [ok, lar, ..., joke, wif, u, oni, ...]  \n",
       "2     [free, entri, 2, wkli, comp, win, fa, cup, fin...  \n",
       "3     [u, dun, say, earli, hor, ..., u, c, alreadi, ...  \n",
       "4     [nah, n't, think, goe, usf, ,, live, around, t...  \n",
       "...                                                 ...  \n",
       "5567  [2nd, time, tri, 2, contact, u., u, å£750, pou...  \n",
       "5568                 [ì_, b, go, esplanad, fr, home, ?]  \n",
       "5569             [piti, ,, *, mood, ., ..., suggest, ?]  \n",
       "5570  [guy, bitch, act, like, 'd, interest, buy, som...  \n",
       "5571                              [rofl, ., true, name]  \n",
       "\n",
       "[5572 rows x 3 columns]"
      ]
     },
     "execution_count": 16,
     "metadata": {},
     "output_type": "execute_result"
    }
   ],
   "source": [
    "#plot new dataset \n",
    "\n",
    "df"
   ]
  },
  {
   "cell_type": "code",
   "execution_count": 17,
   "id": "6c1b0bcf-f310-4031-aee7-e3b69cfe1539",
   "metadata": {},
   "outputs": [],
   "source": [
    "Processed_df = df[['Class','ProcessedText']]"
   ]
  },
  {
   "cell_type": "code",
   "execution_count": 18,
   "id": "33d3027d-186b-48a3-826f-0bc4da41a6db",
   "metadata": {
    "tags": []
   },
   "outputs": [
    {
     "data": {
      "text/html": [
       "<div>\n",
       "<style scoped>\n",
       "    .dataframe tbody tr th:only-of-type {\n",
       "        vertical-align: middle;\n",
       "    }\n",
       "\n",
       "    .dataframe tbody tr th {\n",
       "        vertical-align: top;\n",
       "    }\n",
       "\n",
       "    .dataframe thead th {\n",
       "        text-align: right;\n",
       "    }\n",
       "</style>\n",
       "<table border=\"1\" class=\"dataframe\">\n",
       "  <thead>\n",
       "    <tr style=\"text-align: right;\">\n",
       "      <th></th>\n",
       "      <th>Class</th>\n",
       "      <th>email content</th>\n",
       "      <th>ProcessedText</th>\n",
       "    </tr>\n",
       "  </thead>\n",
       "  <tbody>\n",
       "    <tr>\n",
       "      <th>0</th>\n",
       "      <td>0</td>\n",
       "      <td>NaN</td>\n",
       "      <td>[go, jurong, point, ,, crazi, .., avail, bugi,...</td>\n",
       "    </tr>\n",
       "    <tr>\n",
       "      <th>1</th>\n",
       "      <td>0</td>\n",
       "      <td>NaN</td>\n",
       "      <td>[ok, lar, ..., joke, wif, u, oni, ...]</td>\n",
       "    </tr>\n",
       "    <tr>\n",
       "      <th>2</th>\n",
       "      <td>1</td>\n",
       "      <td>NaN</td>\n",
       "      <td>[free, entri, 2, wkli, comp, win, fa, cup, fin...</td>\n",
       "    </tr>\n",
       "    <tr>\n",
       "      <th>3</th>\n",
       "      <td>0</td>\n",
       "      <td>NaN</td>\n",
       "      <td>[u, dun, say, earli, hor, ..., u, c, alreadi, ...</td>\n",
       "    </tr>\n",
       "    <tr>\n",
       "      <th>4</th>\n",
       "      <td>0</td>\n",
       "      <td>NaN</td>\n",
       "      <td>[nah, n't, think, goe, usf, ,, live, around, t...</td>\n",
       "    </tr>\n",
       "    <tr>\n",
       "      <th>...</th>\n",
       "      <td>...</td>\n",
       "      <td>...</td>\n",
       "      <td>...</td>\n",
       "    </tr>\n",
       "    <tr>\n",
       "      <th>5567</th>\n",
       "      <td>1</td>\n",
       "      <td>NaN</td>\n",
       "      <td>[2nd, time, tri, 2, contact, u., u, å£750, pou...</td>\n",
       "    </tr>\n",
       "    <tr>\n",
       "      <th>5568</th>\n",
       "      <td>0</td>\n",
       "      <td>NaN</td>\n",
       "      <td>[ì_, b, go, esplanad, fr, home, ?]</td>\n",
       "    </tr>\n",
       "    <tr>\n",
       "      <th>5569</th>\n",
       "      <td>0</td>\n",
       "      <td>NaN</td>\n",
       "      <td>[piti, ,, *, mood, ., ..., suggest, ?]</td>\n",
       "    </tr>\n",
       "    <tr>\n",
       "      <th>5570</th>\n",
       "      <td>0</td>\n",
       "      <td>NaN</td>\n",
       "      <td>[guy, bitch, act, like, 'd, interest, buy, som...</td>\n",
       "    </tr>\n",
       "    <tr>\n",
       "      <th>5571</th>\n",
       "      <td>0</td>\n",
       "      <td>NaN</td>\n",
       "      <td>[rofl, ., true, name]</td>\n",
       "    </tr>\n",
       "  </tbody>\n",
       "</table>\n",
       "<p>5572 rows × 3 columns</p>\n",
       "</div>"
      ],
      "text/plain": [
       "      Class  email content                                      ProcessedText\n",
       "0         0            NaN  [go, jurong, point, ,, crazi, .., avail, bugi,...\n",
       "1         0            NaN             [ok, lar, ..., joke, wif, u, oni, ...]\n",
       "2         1            NaN  [free, entri, 2, wkli, comp, win, fa, cup, fin...\n",
       "3         0            NaN  [u, dun, say, earli, hor, ..., u, c, alreadi, ...\n",
       "4         0            NaN  [nah, n't, think, goe, usf, ,, live, around, t...\n",
       "...     ...            ...                                                ...\n",
       "5567      1            NaN  [2nd, time, tri, 2, contact, u., u, å£750, pou...\n",
       "5568      0            NaN                 [ì_, b, go, esplanad, fr, home, ?]\n",
       "5569      0            NaN             [piti, ,, *, mood, ., ..., suggest, ?]\n",
       "5570      0            NaN  [guy, bitch, act, like, 'd, interest, buy, som...\n",
       "5571      0            NaN                              [rofl, ., true, name]\n",
       "\n",
       "[5572 rows x 3 columns]"
      ]
     },
     "execution_count": 18,
     "metadata": {},
     "output_type": "execute_result"
    }
   ],
   "source": [
    "Processed_df = pd.DataFrame(Processed_df, columns=df.columns)\n",
    "Processed_df"
   ]
  },
  {
   "cell_type": "markdown",
   "id": "bdbcf6ad-41eb-42f4-9a4e-d926bd43ca21",
   "metadata": {},
   "source": [
    " **- Vectorize Text Data and Split Data:**\n",
    "   - Divide the data into training and testing sets.\n",
    "   - Use TF-IDF (Term Frequency-Inverse Document Frequency) to vectorize the text data.\n",
    "   \n",
    "   \n",
    "[Calculate TF-IDF in NLP (Simple Example) : Tutoriel by \"Data Science Garage\"](https://youtu.be/vZAXpvHhQow)\n",
    "_____"
   ]
  },
  {
   "cell_type": "markdown",
   "id": "1416b08a-6f35-47b4-8bb4-ae16382f2f4e",
   "metadata": {},
   "source": [
    "## TF-IDF (Term Frequency-Inverse Document Frequency)\n",
    "\n",
    "- **Definition:**\n",
    "  - Stands for Term Frequency-Inverse Document Frequency.\n",
    "  - A method to convert text data into numerical vectors.\n",
    "\n",
    "- **Term Frequency (TF):**\n",
    "  - Measures the frequency of a term in a document.\n",
    "  - Gives higher weight to frequently occurring terms in a document.\n",
    "\n",
    "- **Inverse Document Frequency (IDF):**\n",
    "  - Assesses the importance of a term across the entire dataset.\n",
    "  - Assigns higher weight to terms that are rare across all documents.\n",
    "\n",
    "- **Calculation:**\n",
    "  - TF-IDF score = TF * IDF.\n",
    "  - Combines local importance (in a document) and global importance (across all documents).\n",
    "\n",
    "- **Representation:**\n",
    "  - Each document is represented as a vector in a high-dimensional space.\n",
    "  - TF-IDF scores serve as numerical values for words in the document.\n",
    "\n",
    "- **Purpose:**\n",
    "  - Useful for **text classification**, clustering, and information retrieval.\n",
    "  - Captures the significance of terms within a document relative to their importance across the entire dataset.\n"
   ]
  },
  {
   "cell_type": "code",
   "execution_count": 19,
   "id": "40d5cc04-ce88-4482-9d83-5ab61c981fba",
   "metadata": {
    "tags": []
   },
   "outputs": [],
   "source": [
    "\n",
    "# Convert the 'ProcessedText' column to strings (it's a list)\n",
    "X = Processed_df['ProcessedText'].apply(lambda x: ' '.join(x) if isinstance(x, list) else x)\n",
    "\n",
    "# Split the data into training and testing sets\n",
    "X_train, X_test, y_train, y_test = train_test_split(X, y, test_size=0.2, random_state=42)\n",
    "\n",
    "# Vectorize the 'ProcessedText' column using TF-IDF separately for training and testing sets\n",
    "tfidf_vectorizer = TfidfVectorizer()  \n",
    "\n",
    "X_train_tfidf = tfidf_vectorizer.fit_transform(X_train)\n",
    "X_test_tfidf = tfidf_vectorizer.transform(X_test)\n",
    "\n",
    "# Convert the TF-IDF matrices to DataFrames and add columns to Processed_df\n",
    "X_train_tfidf_df = pd.DataFrame(X_train_tfidf.toarray(), columns=tfidf_vectorizer.get_feature_names_out())\n",
    "X_test_tfidf_df = pd.DataFrame(X_test_tfidf.toarray(), columns=tfidf_vectorizer.get_feature_names_out())\n"
   ]
  },
  {
   "cell_type": "markdown",
   "id": "6bbaa5a4-2db6-4961-a325-611abf38b0b3",
   "metadata": {},
   "source": [
    " **- Implement Logistic Regression:**\n",
    "   - Use the scikit-learn library to implement logistic regression.\n",
    "   _____\n"
   ]
  },
  {
   "cell_type": "code",
   "execution_count": 20,
   "id": "f38083e4-536a-4c10-8e88-65632522c47e",
   "metadata": {
    "tags": []
   },
   "outputs": [],
   "source": [
    "#Define the logistic regression model \n",
    "\n",
    "logistic = LogisticRegression()"
   ]
  },
  {
   "cell_type": "markdown",
   "id": "d2fd3432-f107-4b2f-8424-18f359c4846d",
   "metadata": {},
   "source": [
    "**- Train the Model:**\n",
    "   - Train the logistic regression model on the training set."
   ]
  },
  {
   "cell_type": "code",
   "execution_count": 21,
   "id": "a1d6fd29-76c9-42ae-beaf-2a91955f88e7",
   "metadata": {
    "tags": []
   },
   "outputs": [
    {
     "data": {
      "text/html": [
       "<style>#sk-container-id-1 {color: black;}#sk-container-id-1 pre{padding: 0;}#sk-container-id-1 div.sk-toggleable {background-color: white;}#sk-container-id-1 label.sk-toggleable__label {cursor: pointer;display: block;width: 100%;margin-bottom: 0;padding: 0.3em;box-sizing: border-box;text-align: center;}#sk-container-id-1 label.sk-toggleable__label-arrow:before {content: \"▸\";float: left;margin-right: 0.25em;color: #696969;}#sk-container-id-1 label.sk-toggleable__label-arrow:hover:before {color: black;}#sk-container-id-1 div.sk-estimator:hover label.sk-toggleable__label-arrow:before {color: black;}#sk-container-id-1 div.sk-toggleable__content {max-height: 0;max-width: 0;overflow: hidden;text-align: left;background-color: #f0f8ff;}#sk-container-id-1 div.sk-toggleable__content pre {margin: 0.2em;color: black;border-radius: 0.25em;background-color: #f0f8ff;}#sk-container-id-1 input.sk-toggleable__control:checked~div.sk-toggleable__content {max-height: 200px;max-width: 100%;overflow: auto;}#sk-container-id-1 input.sk-toggleable__control:checked~label.sk-toggleable__label-arrow:before {content: \"▾\";}#sk-container-id-1 div.sk-estimator input.sk-toggleable__control:checked~label.sk-toggleable__label {background-color: #d4ebff;}#sk-container-id-1 div.sk-label input.sk-toggleable__control:checked~label.sk-toggleable__label {background-color: #d4ebff;}#sk-container-id-1 input.sk-hidden--visually {border: 0;clip: rect(1px 1px 1px 1px);clip: rect(1px, 1px, 1px, 1px);height: 1px;margin: -1px;overflow: hidden;padding: 0;position: absolute;width: 1px;}#sk-container-id-1 div.sk-estimator {font-family: monospace;background-color: #f0f8ff;border: 1px dotted black;border-radius: 0.25em;box-sizing: border-box;margin-bottom: 0.5em;}#sk-container-id-1 div.sk-estimator:hover {background-color: #d4ebff;}#sk-container-id-1 div.sk-parallel-item::after {content: \"\";width: 100%;border-bottom: 1px solid gray;flex-grow: 1;}#sk-container-id-1 div.sk-label:hover label.sk-toggleable__label {background-color: #d4ebff;}#sk-container-id-1 div.sk-serial::before {content: \"\";position: absolute;border-left: 1px solid gray;box-sizing: border-box;top: 0;bottom: 0;left: 50%;z-index: 0;}#sk-container-id-1 div.sk-serial {display: flex;flex-direction: column;align-items: center;background-color: white;padding-right: 0.2em;padding-left: 0.2em;position: relative;}#sk-container-id-1 div.sk-item {position: relative;z-index: 1;}#sk-container-id-1 div.sk-parallel {display: flex;align-items: stretch;justify-content: center;background-color: white;position: relative;}#sk-container-id-1 div.sk-item::before, #sk-container-id-1 div.sk-parallel-item::before {content: \"\";position: absolute;border-left: 1px solid gray;box-sizing: border-box;top: 0;bottom: 0;left: 50%;z-index: -1;}#sk-container-id-1 div.sk-parallel-item {display: flex;flex-direction: column;z-index: 1;position: relative;background-color: white;}#sk-container-id-1 div.sk-parallel-item:first-child::after {align-self: flex-end;width: 50%;}#sk-container-id-1 div.sk-parallel-item:last-child::after {align-self: flex-start;width: 50%;}#sk-container-id-1 div.sk-parallel-item:only-child::after {width: 0;}#sk-container-id-1 div.sk-dashed-wrapped {border: 1px dashed gray;margin: 0 0.4em 0.5em 0.4em;box-sizing: border-box;padding-bottom: 0.4em;background-color: white;}#sk-container-id-1 div.sk-label label {font-family: monospace;font-weight: bold;display: inline-block;line-height: 1.2em;}#sk-container-id-1 div.sk-label-container {text-align: center;}#sk-container-id-1 div.sk-container {/* jupyter's `normalize.less` sets `[hidden] { display: none; }` but bootstrap.min.css set `[hidden] { display: none !important; }` so we also need the `!important` here to be able to override the default hidden behavior on the sphinx rendered scikit-learn.org. See: https://github.com/scikit-learn/scikit-learn/issues/21755 */display: inline-block !important;position: relative;}#sk-container-id-1 div.sk-text-repr-fallback {display: none;}</style><div id=\"sk-container-id-1\" class=\"sk-top-container\"><div class=\"sk-text-repr-fallback\"><pre>LogisticRegression()</pre><b>In a Jupyter environment, please rerun this cell to show the HTML representation or trust the notebook. <br />On GitHub, the HTML representation is unable to render, please try loading this page with nbviewer.org.</b></div><div class=\"sk-container\" hidden><div class=\"sk-item\"><div class=\"sk-estimator sk-toggleable\"><input class=\"sk-toggleable__control sk-hidden--visually\" id=\"sk-estimator-id-1\" type=\"checkbox\" checked><label for=\"sk-estimator-id-1\" class=\"sk-toggleable__label sk-toggleable__label-arrow\">LogisticRegression</label><div class=\"sk-toggleable__content\"><pre>LogisticRegression()</pre></div></div></div></div></div>"
      ],
      "text/plain": [
       "LogisticRegression()"
      ]
     },
     "execution_count": 21,
     "metadata": {},
     "output_type": "execute_result"
    }
   ],
   "source": [
    "#Train the model \n",
    "\n",
    "logistic.fit(X_train_tfidf , y_train)"
   ]
  },
  {
   "cell_type": "markdown",
   "id": "3b7e74e1-f821-4c28-87e3-65ee68b33c83",
   "metadata": {},
   "source": [
    "**- Evaluate the Model:**\n",
    "   - Assess the model's performance on the training set."
   ]
  },
  {
   "cell_type": "code",
   "execution_count": 22,
   "id": "ba89f041-c795-496e-ad62-c68e43fc0917",
   "metadata": {
    "tags": []
   },
   "outputs": [
    {
     "name": "stdout",
     "output_type": "stream",
     "text": [
      "Predicted Values ( Train dataset ) :\n",
      "[0 0 0 ... 0 0 0]\n"
     ]
    }
   ],
   "source": [
    "y_predic_train = logistic.predict(X_train_tfidf)\n",
    "\n",
    "print(\"Predicted Values ( Train dataset ) :\")\n",
    "print(y_predic_train)"
   ]
  },
  {
   "cell_type": "markdown",
   "id": "84a49cc0-1e20-4975-b5aa-565c27d849f8",
   "metadata": {},
   "source": [
    " - Assess the model's performance on the testing set."
   ]
  },
  {
   "cell_type": "code",
   "execution_count": 23,
   "id": "3d05e74f",
   "metadata": {
    "tags": []
   },
   "outputs": [
    {
     "name": "stdout",
     "output_type": "stream",
     "text": [
      "Predicted Values ( Test dataset ) :\n",
      "[0 0 0 ... 0 0 1]\n"
     ]
    }
   ],
   "source": [
    "y_predic_test = logistic.predict(X_test_tfidf)\n",
    "\n",
    "print(\"Predicted Values ( Test dataset ) :\")\n",
    "print(y_predic_test)"
   ]
  },
  {
   "cell_type": "markdown",
   "id": "589cab94-9e28-4aa8-adbc-e67cc4f8007c",
   "metadata": {},
   "source": [
    " **Performance Analysis:**\n",
    "   - Analyze the model's performance using metrics like accuracy, precision, recall, and F1 score.\n"
   ]
  },
  {
   "cell_type": "code",
   "execution_count": 24,
   "id": "ce6a38da-b068-4c69-bdd4-e7317494d8de",
   "metadata": {
    "tags": []
   },
   "outputs": [
    {
     "name": "stdout",
     "output_type": "stream",
     "text": [
      "- Precision on Test: 96.39999999999999 %\n",
      "- Recall on Test: 71.0 %\n",
      "- F1 Score on Test: 82.0 %\n",
      "- Accuracy on Test: 95.8 %\n"
     ]
    }
   ],
   "source": [
    "# Calculate precision, recall, and F1 Score on the test set\n",
    "precision_test = precision_score(y_test, y_predic_test, average='binary')  \n",
    "recall_test = recall_score(y_test, y_predic_test, average='binary')\n",
    "f1_test = f1_score(y_test, y_predic_test, average='binary')\n",
    "Accuracy_p = accuracy_score(y_test, y_predic_test)\n",
    "\n",
    "# Print the metrics\n",
    "print(f\"- Precision on Test: {round(precision_test, 3)*100}\",\"%\")\n",
    "print(f\"- Recall on Test: {round(recall_test, 2)*100}\",\"%\")\n",
    "print(f\"- F1 Score on Test: {round(f1_test, 3)*100}\",\"%\")\n",
    "print(f\"- Accuracy on Test: {round(Accuracy_p, 3)*100}\",\"%\")"
   ]
  },
  {
   "cell_type": "markdown",
   "id": "d139e70d-0386-4af2-9541-228216183332",
   "metadata": {},
   "source": [
    "- Plot confusion matrix "
   ]
  },
  {
   "cell_type": "code",
   "execution_count": 25,
   "id": "da3d8fae-1db5-45d7-937b-a96ef2e8fcb3",
   "metadata": {},
   "outputs": [
    {
     "data": {
      "image/png": "[encoded data removed]",
      "text/plain": [
       "<Figure size 800x600 with 1 Axes>"
      ]
     },
     "metadata": {},
     "output_type": "display_data"
    }
   ],
   "source": [
    "cm = confusion_matrix(y_test, y_predic_test)\n",
    "\n",
    "# class_labels is a list of the class labels in dataset\n",
    "class_labels = [0,1]\n",
    "\n",
    "# Plot confusion matrix\n",
    "plt.figure(figsize=(8, 6))\n",
    "sns.heatmap(cm, annot=True, fmt=\"d\", cmap=\"YlGnBu\", cbar=False,\n",
    "            xticklabels=class_labels, yticklabels=class_labels)\n",
    "\n",
    "plt.title('Confusion Matrix')\n",
    "plt.xlabel('Predicted')\n",
    "plt.ylabel('True')\n",
    "plt.show()\n"
   ]
  },
  {
   "cell_type": "markdown",
   "id": "feb067a9-ec92-48c3-a78b-fb6e18d8cfaa",
   "metadata": {},
   "source": [
    "**Fine-tune the Model:**\n",
    "   - Explore opportunities for fine-tuning the model and improving performance if necessary.\n"
   ]
  },
  {
   "cell_type": "code",
   "execution_count": 26,
   "id": "7fcbc776-8de5-4ec0-9aa4-02bc21085884",
   "metadata": {},
   "outputs": [
    {
     "name": "stdout",
     "output_type": "stream",
     "text": [
      "Best Parameters: {'C': 100, 'penalty': 'l2', 'solver': 'liblinear'}\n",
      "Test Accuracy: 0.9775784753363229\n"
     ]
    }
   ],
   "source": [
    "# Define the parameter grid\n",
    "param_grid = {\n",
    "    'C': [0.001, 0.01, 0.1, 1, 10, 100],\n",
    "    'penalty': ['l1', 'l2'],\n",
    "    'solver': ['liblinear']\n",
    "}\n",
    "\n",
    "# Create the Logistic Regression model\n",
    "model = LogisticRegression()\n",
    "\n",
    "# Create the GridSearchCV object\n",
    "grid_search = GridSearchCV(model, param_grid, cv=3)\n",
    "\n",
    "# Fit the grid search \n",
    "grid_search.fit(X_train_tfidf_df, y_train)\n",
    "\n",
    "# Print the best parameters \n",
    "print(\"Best Parameters:\", grid_search.best_params_)\n",
    "\n",
    "# Evaluate the model on the test set\n",
    "accuracy = grid_search.score(X_test_tfidf_df, y_test)\n",
    "print(\"Test Accuracy:\", accuracy)\n"
   ]
  },
  {
   "cell_type": "markdown",
   "id": "8d25995a-59ab-4d3d-bce9-201947002973",
   "metadata": {},
   "source": [
    "- Define the Tuned logic regression model "
   ]
  },
  {
   "cell_type": "code",
   "execution_count": 27,
   "id": "832e54ac-00b0-4782-b878-57e9f8700f7c",
   "metadata": {},
   "outputs": [
    {
     "name": "stdout",
     "output_type": "stream",
     "text": [
      "Tuned Accuracy on test : 97.76 %\n"
     ]
    }
   ],
   "source": [
    "# Best Parameters\n",
    "best_params = {'C': 100, 'penalty': 'l2', 'solver': 'liblinear'}\n",
    "\n",
    "# Create Logistic Regression model\n",
    "logreg_model_tuned = LogisticRegression(**best_params)\n",
    "\n",
    "# Fit the model on the training data\n",
    "logreg_model_tuned.fit(X_train_tfidf_df, y_train)\n",
    "\n",
    "# Make predictions on the test set\n",
    "y_pred = logreg_model_tuned.predict(X_test_tfidf_df)\n",
    "\n",
    "# Evaluate the model\n",
    "accuracy = accuracy_score(y_test, y_pred)\n",
    "classification_report_result = classification_report(y_test, y_pred)\n",
    "\n",
    "# Print the results\n",
    "print(f\"Tuned Accuracy on test : {round(accuracy*100,2)}\",\"%\")"
   ]
  },
  {
   "cell_type": "code",
   "execution_count": 28,
   "id": "674a6a0d-b66a-4ab5-bc00-4d4b6afaf794",
   "metadata": {},
   "outputs": [
    {
     "name": "stdout",
     "output_type": "stream",
     "text": [
      "Classification Report:\n",
      "               precision    recall  f1-score   support\n",
      "\n",
      "           0       0.98      1.00      0.99       965\n",
      "           1       0.97      0.86      0.91       150\n",
      "\n",
      "    accuracy                           0.98      1115\n",
      "   macro avg       0.97      0.93      0.95      1115\n",
      "weighted avg       0.98      0.98      0.98      1115\n",
      "\n"
     ]
    }
   ],
   "source": [
    "print(\"Classification Report:\\n\", classification_report_result)"
   ]
  },
  {
   "cell_type": "markdown",
   "id": "6396b0ef-11ee-4d26-b38c-1b97f7d338a0",
   "metadata": {},
   "source": [
    "- Save the tuned model "
   ]
  },
  {
   "cell_type": "markdown",
   "id": "2cb497fc-aab8-474a-abf4-319ca5b7af25",
   "metadata": {},
   "source": [
    "# Good , the model performance is Good ! "
   ]
  },
  {
   "cell_type": "code",
   "execution_count": 29,
   "id": "0a1971c7-1a26-45f5-8b80-93dda761b0a7",
   "metadata": {
    "tags": []
   },
   "outputs": [
    {
     "name": "stdout",
     "output_type": "stream",
     "text": [
      "Error saving model Spam Email Classification/models/logreg_model_tuned.pkl: [Errno 2] No such file or directory: 'Spam Email Classification/models/logreg_model_tuned.pkl'\n"
     ]
    }
   ],
   "source": [
    "import pickle\n",
    "\n",
    "# Save the model logreg_model_tuned\n",
    "model_tuned_filename = 'Spam Email Classification/models/logreg_model_tuned.pkl'\n",
    "try:\n",
    "    with open(model_tuned_filename, 'wb') as model_file:\n",
    "        pickle.dump(logreg_model_tuned, model_file)\n",
    "    print(f\"Model saved successfully: {model_tuned_filename}\")\n",
    "except Exception as e:\n",
    "    print(f\"Error saving model {model_tuned_filename}: {e}\")\n"
   ]
  },
  {
   "cell_type": "code",
   "execution_count": null,
   "id": "b581da96-a496-4149-addd-4c91abb12ae9",
   "metadata": {},
   "outputs": [],
   "source": []
  }
 ],
 "metadata": {
  "kernelspec": {
   "display_name": "Python 3 (ipykernel)",
   "language": "python",
   "name": "python3"
  },
  "language_info": {
   "codemirror_mode": {
    "name": "ipython",
    "version": 3
   },
   "file_extension": ".py",
   "mimetype": "text/x-python",
   "name": "python",
   "nbconvert_exporter": "python",
   "pygments_lexer": "ipython3",
   "version": "3.11.5"
  }
 },
 "nbformat": 4,
 "nbformat_minor": 5
}
