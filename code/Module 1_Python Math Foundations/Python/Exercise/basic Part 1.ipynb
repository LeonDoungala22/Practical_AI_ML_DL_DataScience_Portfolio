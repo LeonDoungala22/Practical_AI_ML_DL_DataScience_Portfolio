{
 "cells": [
  {
   "cell_type": "markdown",
   "id": "3c8fe545-7f65-4099-aeee-51f910d8dc1d",
   "metadata": {},
   "source": [
    "# Python Basic (Part -I) - Exercises, Practice"
   ]
  },
  {
   "cell_type": "markdown",
   "id": "648a3540-1e30-403b-bce9-30cf93d2169e",
   "metadata": {},
   "source": [
    "### Ex 2:"
   ]
  },
  {
   "cell_type": "code",
   "execution_count": 1,
   "id": "d00b14d9-3dbe-4baf-a2f7-f0fd259bd17b",
   "metadata": {
    "tags": []
   },
   "outputs": [
    {
     "name": "stdout",
     "output_type": "stream",
     "text": [
      " this is the Python version : 3.11.5 (main, Sep 11 2023, 08:19:27) [Clang 14.0.6 ]\n"
     ]
    }
   ],
   "source": [
    "# Write a Python program to find out what version of Python you are using.\n",
    "\n",
    "import sys\n",
    "print(\" this is the Python version :\",sys.version)"
   ]
  },
  {
   "cell_type": "markdown",
   "id": "8bc012ca-dcfc-4b96-bebe-e6ff505e7613",
   "metadata": {},
   "source": [
    "### Ex 3:"
   ]
  },
  {
   "cell_type": "code",
   "execution_count": 2,
   "id": "45d23f36-564f-41ee-a4d5-538db25e9d56",
   "metadata": {
    "tags": []
   },
   "outputs": [
    {
     "name": "stdout",
     "output_type": "stream",
     "text": [
      "current date and time of today : 2023-11-05 22:56:31.217618\n"
     ]
    }
   ],
   "source": [
    "# Write a Python program to display the current date and time.\n",
    "\n",
    "import datetime\n",
    "\n",
    "print(\"current date and time of today :\", datetime.datetime.now())"
   ]
  },
  {
   "cell_type": "markdown",
   "id": "06fe8664-8778-426d-9f3c-88988693aefc",
   "metadata": {},
   "source": [
    "### Ex 4:"
   ]
  },
  {
   "cell_type": "code",
   "execution_count": 3,
   "id": "729cd0ca-eede-44a4-b85b-2814961284b4",
   "metadata": {
    "tags": []
   },
   "outputs": [
    {
     "name": "stdout",
     "output_type": "stream",
     "text": [
      "r = 3.8013271108436504\n"
     ]
    }
   ],
   "source": [
    "#  Write a Python program that calculates the area of a circle based on the radius entered by the user\n",
    "\n",
    "import math\n",
    "\n",
    "def area(r):\n",
    "    return math.pi * r**2\n",
    "\n",
    "print(\"r =\", area(1.1))"
   ]
  },
  {
   "cell_type": "markdown",
   "id": "178eee0c-91c9-4f41-8262-b3e2549bde28",
   "metadata": {},
   "source": [
    "### Ex 5:"
   ]
  },
  {
   "cell_type": "code",
   "execution_count": 4,
   "id": "7d9484ba-ff09-462d-bfd6-77591cc07297",
   "metadata": {
    "tags": []
   },
   "outputs": [
    {
     "name": "stdin",
     "output_type": "stream",
     "text": [
      "Your first name : LEON\n",
      "Your last Name : DOUNGALA\n"
     ]
    },
    {
     "name": "stdout",
     "output_type": "stream",
     "text": [
      "Reverse firt name and Last name : NOEL ALAGNUOD\n"
     ]
    }
   ],
   "source": [
    "# Write a Python program that accepts the user's first and last name and prints them in reverse order with a space between them.\n",
    "\n",
    "firstname = input(\"Your first name :\")\n",
    "lastName = input(\"Your last Name :\")\n",
    "\n",
    "print(\"Reverse firt name and Last name :\", firstname[::-1] , lastName[::-1] )"
   ]
  },
  {
   "cell_type": "markdown",
   "id": "f99f7b1c-0e16-4455-8c8a-fc6eb5410ab3",
   "metadata": {},
   "source": [
    "### Ex 6:"
   ]
  },
  {
   "cell_type": "code",
   "execution_count": 5,
   "id": "e7a7839a-8cc1-4eb9-a7cb-2d847baecb99",
   "metadata": {
    "tags": []
   },
   "outputs": [
    {
     "name": "stdin",
     "output_type": "stream",
     "text": [
      "Enter a sequence of comma-separated numbers:  1,2,3,4,5,6\n"
     ]
    },
    {
     "name": "stdout",
     "output_type": "stream",
     "text": [
      "List: ['1', '2', '3', '4', '5', '6']\n",
      "Tuple: ('1', '2', '3', '4', '5', '6')\n"
     ]
    }
   ],
   "source": [
    "## Write a Python program that accepts a sequence of comma-separated numbers from the user and generates a list and a tuple of those numbers. Sample data : 3, 5, 7, 23\n",
    "\n",
    "input_sequence = input(\"Enter a sequence of comma-separated numbers: \")\n",
    "\n",
    "\n",
    "number_list = input_sequence.split(',')\n",
    "\n",
    "number_tuple = tuple(number_list)\n",
    "\n",
    "print(\"List:\", number_list)\n",
    "print(\"Tuple:\", number_tuple)"
   ]
  },
  {
   "cell_type": "markdown",
   "id": "f0a94749-68a6-4965-90f2-26a3b016f2c7",
   "metadata": {},
   "source": [
    "### Ex 7:"
   ]
  },
  {
   "cell_type": "code",
   "execution_count": 10,
   "id": "c9e047cd-6943-45a2-b5b9-f5aee030f1cc",
   "metadata": {
    "tags": []
   },
   "outputs": [
    {
     "name": "stdin",
     "output_type": "stream",
     "text": [
      "Enter a file name:  file.java\n"
     ]
    },
    {
     "name": "stdout",
     "output_type": "stream",
     "text": [
      "Extention: java\n"
     ]
    }
   ],
   "source": [
    "## Write a Python program that accepts a filename from the user and prints the extension of the file.Sample filename : abc.java\n",
    "\n",
    "file_Name = input(\"Enter a file name: \")\n",
    "\n",
    "file_split = file_Name.split('.')\n",
    "\n",
    "print(\"Extention:\",file_split[-1])"
   ]
  },
  {
   "cell_type": "markdown",
   "id": "138e41fa-7181-4107-aeab-3000457bb93b",
   "metadata": {},
   "source": [
    "### Ex 8:"
   ]
  },
  {
   "cell_type": "code",
   "execution_count": 11,
   "id": "0e8d5405-d349-4aaa-9382-760d2ac103f7",
   "metadata": {
    "tags": []
   },
   "outputs": [
    {
     "name": "stdout",
     "output_type": "stream",
     "text": [
      "First color : Red\n",
      "Last color : Black\n"
     ]
    }
   ],
   "source": [
    "## Write a Python program to display the first and last colors from the following list. color_list = [\"Red\",\"Green\",\"White\" ,\"Black\"]\n",
    "\n",
    "color_list = [\"Red\",\"Green\",\"White\" ,\"Black\"]\n",
    "\n",
    "\n",
    "print(\"First color :\",color_list[0])\n",
    "print(\"Last color :\",color_list[-1])"
   ]
  },
  {
   "cell_type": "markdown",
   "id": "692044ec-bb8c-46b4-8a80-425e3a376f03",
   "metadata": {},
   "source": [
    "### Ex 9:"
   ]
  },
  {
   "cell_type": "code",
   "execution_count": 49,
   "id": "bba8bf30-8fb1-4a0a-bcb5-1d46a9ccec6d",
   "metadata": {
    "tags": []
   },
   "outputs": [
    {
     "name": "stdout",
     "output_type": "stream",
     "text": [
      "11 / 12 / 2018\n"
     ]
    }
   ],
   "source": [
    "## Write a Python program to display the examination schedule. (extract the date from exam_st_date).\n",
    "#Sample Output : The examination will start from : 11 / 12 / 2014\n",
    "\n",
    "exam_st_date = (11, 12, 2018)\n",
    "print(exam_st_date[0],\"/\",exam_st_date[1],\"/\",exam_st_date[2])"
   ]
  },
  {
   "cell_type": "markdown",
   "id": "8835cd06-915e-4bd9-8447-9847e70bad50",
   "metadata": {},
   "source": [
    "### Ex 10:"
   ]
  },
  {
   "cell_type": "code",
   "execution_count": 50,
   "id": "e8cb7fb4-f852-43c2-bef7-c3baeac2de38",
   "metadata": {
    "tags": []
   },
   "outputs": [
    {
     "name": "stdin",
     "output_type": "stream",
     "text": [
      "Inser integer value 5\n"
     ]
    },
    {
     "name": "stdout",
     "output_type": "stream",
     "text": [
      "Result :  615\n"
     ]
    }
   ],
   "source": [
    "## Write a Python program that accepts an integer (n) and computes the value of n+nn+nnn. Sample value of n is 5\n",
    "\n",
    "n = int(input(\"Inser integer value\"))\n",
    "print(\"Result : \", int(\"%s\" % n)+int(\"%s%s\" % (n,n))+int(\"%s%s%s\" % (n,n,n)))\n",
    "    "
   ]
  },
  {
   "cell_type": "markdown",
   "id": "8d66dd45-b602-47e4-8171-c9b753d2b42b",
   "metadata": {},
   "source": [
    "### Ex 12:"
   ]
  },
  {
   "cell_type": "code",
   "execution_count": 62,
   "id": "9dcd21a0-e937-47c8-a676-f402702d11f8",
   "metadata": {},
   "outputs": [
    {
     "name": "stdout",
     "output_type": "stream",
     "text": [
      "The number of days is :  9 days, 0:00:00\n"
     ]
    }
   ],
   "source": [
    " #Write a Python program to calculate the number of days between two dates. Sample dates : (2014, 7, 2), (2014, 7, 11)\n",
    "from datetime import date \n",
    "\n",
    "date1= date(2014, 7, 11)\n",
    "date2= date(2014, 7, 2)\n",
    "print(\"The number of days is : \", date1 - date2)"
   ]
  },
  {
   "cell_type": "markdown",
   "id": "d2f601b7-224e-4a0a-905f-7bca62d7059d",
   "metadata": {},
   "source": [
    "### Ex 14:"
   ]
  },
  {
   "cell_type": "code",
   "execution_count": 62,
   "id": "348ff612",
   "metadata": {},
   "outputs": [
    {
     "name": "stdout",
     "output_type": "stream",
     "text": [
      "The number of days is :  9 days, 0:00:00\n"
     ]
    }
   ],
   "source": [
    " #Write a Python program to calculate the number of days between two dates. Sample dates : (2014, 7, 2), (2014, 7, 11)\n",
    "from datetime import date \n",
    "\n",
    "date1= date(2014, 7, 11)\n",
    "date2= date(2014, 7, 2)\n",
    "print(\"The number of days is : \", date1 - date2)"
   ]
  },
  {
   "cell_type": "markdown",
   "id": "7d611d01-7cc7-4215-bf94-677d367a5ea1",
   "metadata": {},
   "source": [
    "### Ex 25:"
   ]
  },
  {
   "cell_type": "code",
   "execution_count": 11,
   "id": "aaa03127-a4c4-4a88-ae22-593a71dba583",
   "metadata": {},
   "outputs": [
    {
     "name": "stdin",
     "output_type": "stream",
     "text": [
      "Enter a value to check:  5\n"
     ]
    },
    {
     "name": "stdout",
     "output_type": "stream",
     "text": [
      "False\n"
     ]
    }
   ],
   "source": [
    "#Write a Python program that checks whether a specified value is contained within a group of values.\n",
    "\n",
    "Lista = [1, 5, 8, 3]\n",
    "\n",
    "val = input(\"Enter a value to check: \")\n",
    "\n",
    "def check_value(L1, val):\n",
    "    for x in L1:\n",
    "        if val == x:\n",
    "            return True\n",
    "    return False\n",
    "\n",
    "result = check_value(Lista, val)\n",
    "print(result)\n",
    "\n"
   ]
  },
  {
   "cell_type": "markdown",
   "id": "5fa55d59-7ba4-4bfc-80d4-2017389f2f13",
   "metadata": {},
   "source": [
    "### Ex 26:"
   ]
  },
  {
   "cell_type": "code",
   "execution_count": 14,
   "id": "a54732a4-fb30-4809-8ef7-dc8c0aec7d8a",
   "metadata": {},
   "outputs": [
    {
     "name": "stdout",
     "output_type": "stream",
     "text": [
      "{'Black', 'White'}\n"
     ]
    }
   ],
   "source": [
    "#29. Write a Python program that prints out all colors from color_list_1 that are not present in color_list_2.\n",
    "#Test Data :\n",
    "color_list_1 = set([\"White\", \"Black\", \"Red\"])\n",
    "color_list_2 = set([\"Red\", \"Green\"])\n",
    " \n",
    "print(color_list_1.difference(color_list_2))"
   ]
  },
  {
   "cell_type": "code",
   "execution_count": null,
   "id": "10c526b3-e65a-4e2c-98ca-0a1768cf1d55",
   "metadata": {},
   "outputs": [],
   "source": []
  },
  {
   "cell_type": "code",
   "execution_count": null,
   "id": "b9430b4f-aa02-4e52-a3a2-6d1b2028c498",
   "metadata": {},
   "outputs": [],
   "source": []
  },
  {
   "cell_type": "code",
   "execution_count": null,
   "id": "cfbf0321-8cb0-428a-a16d-a6116eb1635b",
   "metadata": {},
   "outputs": [],
   "source": []
  },
  {
   "cell_type": "code",
   "execution_count": null,
   "id": "32c2d2a7-9eb4-4374-afe2-d09854134c53",
   "metadata": {},
   "outputs": [],
   "source": []
  },
  {
   "cell_type": "code",
   "execution_count": null,
   "id": "b9a2b2fc-719f-434a-8e4f-f7f6ebd60fc4",
   "metadata": {},
   "outputs": [],
   "source": []
  },
  {
   "cell_type": "code",
   "execution_count": null,
   "id": "1ecf87a1-5bee-4dee-95f2-003107253fab",
   "metadata": {},
   "outputs": [],
   "source": []
  },
  {
   "cell_type": "code",
   "execution_count": null,
   "id": "00c1b12e-331d-4fad-b783-c5d4d8f21f10",
   "metadata": {},
   "outputs": [],
   "source": []
  },
  {
   "cell_type": "code",
   "execution_count": null,
   "id": "2506f021-9d9e-435b-a504-19c707d5abef",
   "metadata": {},
   "outputs": [],
   "source": []
  },
  {
   "cell_type": "code",
   "execution_count": null,
   "id": "72ebdf2b-c616-401c-8dbf-a101844b3277",
   "metadata": {},
   "outputs": [],
   "source": []
  },
  {
   "cell_type": "code",
   "execution_count": null,
   "id": "2944b89a-c8e6-448c-b8ea-fc27860cfdba",
   "metadata": {},
   "outputs": [],
   "source": []
  },
  {
   "cell_type": "code",
   "execution_count": null,
   "id": "90229f6d-d75b-46c9-ac47-ba1e588bed3d",
   "metadata": {},
   "outputs": [],
   "source": []
  },
  {
   "cell_type": "code",
   "execution_count": null,
   "id": "e83349ed-cf38-40d7-b00c-5e827aa4d8ac",
   "metadata": {},
   "outputs": [],
   "source": []
  }
 ],
 "metadata": {
  "kernelspec": {
   "display_name": "Python 3 (ipykernel)",
   "language": "python",
   "name": "python3"
  },
  "language_info": {
   "codemirror_mode": {
    "name": "ipython",
    "version": 3
   },
   "file_extension": ".py",
   "mimetype": "text/x-python",
   "name": "python",
   "nbconvert_exporter": "python",
   "pygments_lexer": "ipython3",
   "version": "3.11.5"
  }
 },
 "nbformat": 4,
 "nbformat_minor": 5
}
