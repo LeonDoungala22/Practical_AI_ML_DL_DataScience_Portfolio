{
 "cells": [
  {
   "cell_type": "markdown",
   "metadata": {},
   "source": [
    "# Python Basic Course\n"
   ]
  },
  {
   "cell_type": "markdown",
   "metadata": {},
   "source": [
    "## - Data type"
   ]
  },
  {
   "cell_type": "markdown",
   "metadata": {},
   "source": [
    "- Text Type:\tstr\n",
    "- Numeric Types:\tint, float, complex\n",
    "- Sequence Types:\tlist, tuple, range\n",
    "- Mapping Type:\tdict\n",
    "- Set Types:\tset, frozenset\n",
    "- Boolean Type:\tbool\n",
    "- Binary Types:\tbytes, bytearray, memoryview\n",
    "- None Type:\tNoneType\n",
    "\n",
    "<b>NB :</b> You can get the data type of any object by using the type() function:"
   ]
  },
  {
   "cell_type": "code",
   "execution_count": 4,
   "metadata": {
    "tags": []
   },
   "outputs": [
    {
     "name": "stdout",
     "output_type": "stream",
     "text": [
      "- Data type of  Ciao : <class 'str'>\n",
      "- Data type of  50 : <class 'int'>\n",
      "- Data type of  50.4 : <class 'float'>\n",
      "- Data type of  1j : <class 'complex'>\n",
      "- Data type of  ['Hello', 'myname', 'is', 'apple'] : <class 'list'>\n",
      "- Data type of  ('House', 'Pyhton', 'code') : <class 'tuple'>\n",
      "- Data type of  {'name': 'Leon', 'age': 12} : <class 'dict'>\n",
      "- Data type of  True : <class 'bool'>\n",
      "- Data type of  None : <class 'NoneType'>\n"
     ]
    }
   ],
   "source": [
    "#Example :\n",
    "\n",
    "value = \"Ciao\"\n",
    "value2 = 50\n",
    "value3 = 50.4\n",
    "value4 = 1j\n",
    "value5 = [\"Hello\",\"myname\",\"is\",\"apple\"]\n",
    "value6 = (\"House\",\"Pyhton\",\"code\")\n",
    "value7 = {\"name\":\"Leon\", \"age\":12}\n",
    "value8 = True\n",
    "value9 = None\n",
    "\n",
    "print(\"- Data type of \",value,\":\",type(value))\n",
    "print(\"- Data type of \",value2,\":\",type(value2))\n",
    "print(\"- Data type of \",value3,\":\",type(value3))\n",
    "print(\"- Data type of \",value4,\":\",type(value4))\n",
    "print(\"- Data type of \",value5,\":\",type(value5))\n",
    "print(\"- Data type of \",value6,\":\",type(value6))\n",
    "print(\"- Data type of \",value7,\":\",type(value7))\n",
    "print(\"- Data type of \",value8,\":\",type(value8))\n",
    "print(\"- Data type of \",value9,\":\",type(value9))"
   ]
  },
  {
   "cell_type": "markdown",
   "metadata": {},
   "source": [
    "## - How to set a data type in python "
   ]
  },
  {
   "cell_type": "code",
   "execution_count": 6,
   "metadata": {},
   "outputs": [
    {
     "name": "stdout",
     "output_type": "stream",
     "text": [
      "- Data type of  hello : <class 'str'>\n",
      "- Data type of  10 : <class 'int'>\n",
      "- Data type of  ['House', 'Pyhton', 'code'] : <class 'list'>\n"
     ]
    }
   ],
   "source": [
    "val =str(\"hello\")\n",
    "val1= int(10)\n",
    "val3 =list(value6)\n",
    "\n",
    "print(\"- Data type of \",val,\":\",type(val))\n",
    "print(\"- Data type of \",val1,\":\",type(val1))\n",
    "print(\"- Data type of \",val3,\":\",type(val3))"
   ]
  },
  {
   "cell_type": "code",
   "execution_count": 8,
   "metadata": {},
   "outputs": [
    {
     "name": "stdout",
     "output_type": "stream",
     "text": [
      "2\n",
      "Data type: 2\n"
     ]
    }
   ],
   "source": [
    "#To convert floeat into to int : \n",
    "\n",
    "val4 = int(2.3)\n",
    "print(val4) \n",
    "print(\"Data type:\",val4)"
   ]
  },
  {
   "cell_type": "markdown",
   "metadata": {},
   "source": [
    "## - Ramdom Number"
   ]
  },
  {
   "cell_type": "markdown",
   "metadata": {},
   "source": [
    "Python does not have a <b>random()</b> function to make a random number, but Python has a built-in module called random that can be used to make random numbers:"
   ]
  },
  {
   "cell_type": "code",
   "execution_count": 10,
   "metadata": {},
   "outputs": [
    {
     "name": "stdout",
     "output_type": "stream",
     "text": [
      "2\n"
     ]
    }
   ],
   "source": [
    "#Example : \n",
    "\n",
    "import random # import random module\n",
    "\n",
    "print(random.randint(1,10)) # Display random numbers between 1 to 10. "
   ]
  },
  {
   "cell_type": "markdown",
   "metadata": {},
   "source": [
    "## - Python Strings"
   ]
  },
  {
   "cell_type": "markdown",
   "metadata": {},
   "source": [
    "###  - Slicing"
   ]
  },
  {
   "cell_type": "markdown",
   "metadata": {},
   "source": [
    "The slice syntax allows you to return a range of characters."
   ]
  },
  {
   "cell_type": "code",
   "execution_count": 12,
   "metadata": {
    "tags": []
   },
   "outputs": [
    {
     "name": "stdout",
     "output_type": "stream",
     "text": [
      "jou\n"
     ]
    }
   ],
   "source": [
    "#Example : \n",
    "\n",
    "mystring = \"Bonjour les amis\"\n",
    "print(mystring[3:6])   #This is a Slicing"
   ]
  },
  {
   "cell_type": "markdown",
   "metadata": {},
   "source": [
    "### - Slice From the Start"
   ]
  },
  {
   "cell_type": "markdown",
   "metadata": {},
   "source": [
    "The range starts at the first character if the start index is omitted:"
   ]
  },
  {
   "cell_type": "code",
   "execution_count": 13,
   "metadata": {
    "tags": []
   },
   "outputs": [
    {
     "name": "stdout",
     "output_type": "stream",
     "text": [
      "Bonjou\n"
     ]
    }
   ],
   "source": [
    "# Exemple : \n",
    "print(mystring[:6]) # Get all of the characters up to position 6 (which is not included):"
   ]
  },
  {
   "cell_type": "code",
   "execution_count": null,
   "metadata": {},
   "outputs": [],
   "source": []
  },
  {
   "cell_type": "markdown",
   "metadata": {},
   "source": [
    "### - Slice From the Start"
   ]
  },
  {
   "cell_type": "raw",
   "metadata": {},
   "source": [
    "The range will reach the end if the end index is omitted:"
   ]
  },
  {
   "cell_type": "code",
   "execution_count": 14,
   "metadata": {
    "tags": []
   },
   "outputs": [
    {
     "name": "stdout",
     "output_type": "stream",
     "text": [
      "our les amis\n"
     ]
    }
   ],
   "source": [
    "print(mystring[4:]) # Get all of the characters from to position 4 to the end :"
   ]
  },
  {
   "cell_type": "markdown",
   "metadata": {},
   "source": [
    "### - Negative Indexing"
   ]
  },
  {
   "cell_type": "raw",
   "metadata": {},
   "source": [
    "Get the characters:From: \"o\" in \"World!\" (position -5) to, but not included: \"d\" in \"World!\" (position -2):"
   ]
  },
  {
   "cell_type": "code",
   "execution_count": 16,
   "metadata": {
    "tags": []
   },
   "outputs": [
    {
     "name": "stdout",
     "output_type": "stream",
     "text": [
      "orld\n"
     ]
    }
   ],
   "source": [
    "b = \"Hello, World!\"\n",
    "print(b[-5:-1])"
   ]
  },
  {
   "cell_type": "markdown",
   "metadata": {},
   "source": [
    "### - Modify Strings"
   ]
  },
  {
   "cell_type": "markdown",
   "metadata": {},
   "source": [
    "You can work with strings using a number of built-in Python functions.You can work with strings using a number of built-in Python functions.\n",
    "\n",
    "- Upper Case : <b>upper()</b>\n",
    "- Lower Case : <b>lower()</b>\n",
    "- Remove Whitespace : <b>strip()</b>\n",
    "- Replace String : <b>replace()</b>\n",
    "- Split String : <b>replace()</b>"
   ]
  },
  {
   "cell_type": "code",
   "execution_count": 24,
   "metadata": {
    "tags": []
   },
   "outputs": [
    {
     "name": "stdout",
     "output_type": "stream",
     "text": [
      "- Upper:   THIS IS ,MY STRING TODAY  \n",
      "- Lower:   this is ,my string today  \n",
      "- whitespace:  This is ,my string today\n",
      "- Replace t with V :   This is ,my sVring Voday  \n",
      "- Split whith separator :  [' This is ', 'my string today  ']\n"
     ]
    }
   ],
   "source": [
    "#Example : \n",
    "\n",
    "MyStrig =\" This is ,my string today  \"\n",
    "\n",
    "print(\"- Upper: \", MyStrig.upper())  # Run the string in upper case \n",
    "print(\"- Lower: \", MyStrig.lower())  # Run the string in lower case \n",
    "print(\"- whitespace: \", MyStrig.strip())  # Removes any whitespace from the beginning or the end\n",
    "print(\"- Replace t with V : \", MyStrig.replace(\"t\",\"V\"))  # Replace \"t\" with \"V\"\n",
    "print(\"- Split whith separator : \", MyStrig.split(\",\"))  # Split the string with the separator"
   ]
  },
  {
   "cell_type": "markdown",
   "metadata": {},
   "source": [
    "### - String Methods"
   ]
  },
  {
   "cell_type": "markdown",
   "metadata": {
    "tags": []
   },
   "source": [
    "**Method** | **Description** | **Example**\n",
    "--- | --- | ---\n",
    "**capitalize()** | Converts the first character to upper case | `\"hello\".capitalize() => \"Hello\"`\n",
    "**casefold()** | Converts string into lower case | `\"Hello\".casefold() => \"hello\"`\n",
    "**center()** | Returns a centered string | `\"Hello\".center(10) => \"  Hello   \"`\n",
    "**count()** | Returns the number of times a specified value occurs in a string | `\"banana\".count(\"a\") => 3`\n",
    "**encode()** | Returns an encoded version of the string | `\"Hello\".encode() => b'Hello'`\n",
    "**endswith()** | Returns true if the string ends with the specified value | `\"Hello\".endswith(\"o\") => True`\n",
    "**expandtabs()** | Sets the tab size of the string | `\"Hello\\tWorld\".expandtabs(4) => \"Hello   World\"`\n",
    "**find()** | Searches the string for a specified value and returns the position of where it was found | `\"Hello\".find(\"e\") => 1`\n",
    "**format()** | Formats specified values in a string | `\"Hello, {}!\".format(\"John\") => \"Hello, John!\"`\n",
    "**format_map()** | Formats specified values in a string | `\"Hello, {name}!\".format_map({\"name\": \"John\"}) => \"Hello, John!\"`\n",
    "**index()** | Searches the string for a specified value and returns the position of where it was found | `\"Hello\".index(\"e\") => 1`\n",
    "**isalnum()** | Returns True if all characters in the string are alphanumeric | `\"Hello123\".isalnum() => True`\n",
    "**isalpha()** | Returns True if all characters in the string are in the alphabet | `\"Hello\".isalpha() => True`\n",
    "**isascii()** | Returns True if all characters in the string are ASCII characters | `\"Hello\".isascii() => True`\n",
    "**isdecimal()** | Returns True if all characters in the string are decimals | `\"12345\".isdecimal() => True`\n",
    "**isdigit()** | Returns True if all characters in the string are digits | `\"12345\".isdigit() => True`\n",
    "**isidentifier()** | Returns True if the string is an identifier | `\"my_var\".isidentifier() => True`\n",
    "**islower()** | Returns True if all characters in the string are lowercase | `\"hello\".islower() => True`\n",
    "**isnumeric()** | Returns True if all characters in the string are numeric | `\"12345\".isnumeric() => True`\n",
    "**isprintable()** | Returns True if all characters in the string are printable | `\"Hello\\nWorld\".isprintable() => False`\n",
    "**isspace()** | Returns True if all characters in the string are whitespaces | `\"    \".isspace() => True`\n",
    "**istitle()** | Returns True if the string follows the rules of a title | `\"Hello World\".istitle() => True`\n",
    "**isupper()** | Returns True if all characters in the string are uppercase | `\"HELLO\".isupper() => True`\n",
    "**join()** | Converts the elements of an iterable into a string | `\",\".join([\"apple\", \"banana\", \"cherry\"]) => \"apple,banana,cherry\"`\n",
    "**ljust()** | Returns a left-justified version of the string | `\"Hello\".ljust(10) => \"Hello     \"`\n",
    "**lower()** | Converts a string into lowercase | `\"Hello\".lower() => \"hello\"`\n",
    "**lstrip()** | Returns a left trim version of the string | `\"   Hello   \".lstrip() => \"Hello   \"`\n",
    "**maketrans()** | Returns a translation table to be used in translations | `str.maketrans(\"aeiou\", \"12345\")`\n",
    "**partition()** | Returns a tuple where the string is parted into three parts | `\"apple,banana,cherry\".partition(\",\") => ('apple', ',', 'banana,cherry')`\n",
    "**replace()** | Returns a string where a specified value is replaced with a specified value | `\"Hello, World!\".replace(\"World\", \"John\") => \"Hello, John!\"`\n",
    "**rfind()** | Searches the string for a specified value and returns the last position of where it was found | `\"banana\".rfind(\"a\") => 3`\n",
    "**rindex()** | Searches the string for a specified value and returns the last position of where it was found | `\"banana\".rindex(\"a\") => 3`\n",
    "**rjust()** | Returns a right-justified version of the string | `\"Hello\".rjust(10) => \"     Hello\"`\n",
    "**rpartition()** | Returns a tuple where the string is parted into three parts | `\"apple,banana,cherry\".rpartition(\",\") => ('apple,banana', ',', 'cherry')`\n",
    "**rsplit()** | Splits the string at the specified separator and returns a list | `\"apple,banana,cherry\".rsplit(\",\") => ['apple', 'banana', 'cherry']`\n",
    "**rstrip()** | Returns a right trim version of the string | `\"   Hello   \".rstrip() => \"   Hello\"`\n",
    "**split()** | Splits the string at the specified separator and returns a list | `\"apple,banana,cherry\".split(\",\") => ['apple', 'banana', 'cherry']`\n",
    "**splitlines()** | Splits the string at line breaks and returns a list | `\"Hello\\nWorld\".splitlines() => ['Hello', 'World']`\n",
    "**startswith()** | Returns true if the string starts with the specified value | `\"Hello, World!\".startswith(\"Hello\") => True`\n",
    "**strip()** | Returns a trimmed version of the string | `\"   Hello   \".strip() => \"Hello\"`\n",
    "**swapcase()** | Swaps cases, lower case becomes upper case and vice versa | `\"Hello World\".swapcase() => \"hELLO wORLD\"`\n",
    "**title()** | Converts the first character of each word to upper case | `\"hello world\".title() => \"Hello World\"`\n",
    "**translate()** | Returns a translated string | `\"Hello\".translate(str.maketrans(\"H\", \"J\")) => \"Jello\"`\n",
    "**upper()** | Converts a string into uppercase | `\"hello\".upper() => \"HELLO\"`\n",
    "**zfill()** | Fills the string with a specified number of 0 values at the beginning | `\"42\".zfill(5) => \"00042\"`"
   ]
  },
  {
   "cell_type": "markdown",
   "metadata": {},
   "source": [
    "### - Python Operators"
   ]
  },
  {
   "cell_type": "markdown",
   "metadata": {
    "tags": []
   },
   "source": [
    "\n",
    "\n",
    "| Operator | Description          | Example             |\n",
    "|:--------:|:---------------------|:--------------------|\n",
    "|    +     | Addition             | 5 + 3 = 8           |\n",
    "|    -     | Subtraction          | 9 - 4 = 5           |\n",
    "|    *     | Multiplication       | 6 * 2 = 12          |\n",
    "|    /     | Division             | 10 / 2 = 5.0        |\n",
    "|   //     | Floor Division       | 10 // 3 = 3         |\n",
    "|    %     | Modulus (Remainder)  | 7 % 3 = 1           |\n",
    "|   **     | Exponentiation       | 2 ** 3 = 8          |\n"
   ]
  },
  {
   "cell_type": "markdown",
   "metadata": {},
   "source": [
    "### - Python Assignment Operators"
   ]
  },
  {
   "cell_type": "markdown",
   "metadata": {},
   "source": [
    "| Operator | Example | Same As |\n",
    "|----------|---------|---------|\n",
    "| `=`      | `x = 5` | `x = 5` |\n",
    "| `+=`     | `x += 3` | `x = x + 3` |\n",
    "| `-=`     | `x -= 3` | `x = x - 3` |\n",
    "| `*=`     | `x *= 3` | `x = x * 3` |\n",
    "| `/=`     | `x /= 3` | `x = x / 3` |\n",
    "| `%=`     | `x %= 3` | `x = x % 3` |\n",
    "| `//=`    | `x //= 3` | `x = x // 3` |\n",
    "| `**=`    | `x **= 3` | `x = x ** 3` |\n",
    "| `&=`     | `x &= 3` | `x = x & 3` |\n",
    "| `|=`     | `x |= 3` | `x = x | 3` |\n",
    "| `^=`     | `x ^= 3` | `x = x ^ 3` |\n",
    "| `>>=`    | `x >>= 3` | `x = x >> 3` |\n",
    "| `<<=`    | `x <<= 3` | `x = x << 3` |\n"
   ]
  },
  {
   "cell_type": "markdown",
   "metadata": {},
   "source": [
    "### - Python Comparison Operators"
   ]
  },
  {
   "cell_type": "markdown",
   "metadata": {
    "tags": []
   },
   "source": [
    "| Operator | Name                       | Example |\n",
    "|----------|----------------------------|---------|\n",
    "| `==`     | Equal                      | `x == y` |\n",
    "| `!=`     | Not equal                  | `x != y` |\n",
    "| `>`      | Greater than               | `x > y`  |\n",
    "| `<`      | Less than                  | `x < y`  |\n",
    "| `>=`     | Greater than or equal to  | `x >= y` |\n",
    "| `<=`     | Less than or equal to     | `x <= y` |\n"
   ]
  },
  {
   "cell_type": "markdown",
   "metadata": {},
   "source": [
    "### - Python Logical Operators"
   ]
  },
  {
   "cell_type": "markdown",
   "metadata": {},
   "source": [
    "| Operator | Description                                     | Example                   |\n",
    "|----------|-------------------------------------------------|---------------------------|\n",
    "| `and`    | Returns True if both statements are true      | `x < 5 and x < 10`        |\n",
    "| `or`     | Returns True if one of the statements is true  | `x < 5 or x < 4`          |\n",
    "| `not`    | Reverse the result, returns False if true      | `not(x < 5 and x < 10)`   |\n"
   ]
  },
  {
   "cell_type": "markdown",
   "metadata": {},
   "source": [
    "### - Python Identity Operators"
   ]
  },
  {
   "cell_type": "markdown",
   "metadata": {},
   "source": [
    "| Operator | Description                                           | Example     |\n",
    "|----------|-------------------------------------------------------|-------------|\n",
    "| `is`     | Returns True if both variables are the same object  | `x is y`    |\n",
    "| `is not` | Returns True if both variables are not the same object | `x is not y` |\n"
   ]
  },
  {
   "cell_type": "markdown",
   "metadata": {},
   "source": [
    "### - Python Membership Operators"
   ]
  },
  {
   "cell_type": "markdown",
   "metadata": {},
   "source": [
    "| Operator | Description                                             | Example      |\n",
    "|----------|---------------------------------------------------------|--------------|\n",
    "| `in`     | Returns True if a sequence with the specified value is present in the object  | `x in y`     |\n",
    "| `not in` | Returns True if a sequence with the specified value is not present in the object  | `x not in y` |\n"
   ]
  },
  {
   "cell_type": "markdown",
   "metadata": {},
   "source": [
    "### - Python Bitwise Operators"
   ]
  },
  {
   "cell_type": "markdown",
   "metadata": {},
   "source": [
    "| Operator | Name                | Description                                                           | Example       |\n",
    "|----------|---------------------|-----------------------------------------------------------------------|---------------|\n",
    "| `&`      | AND                 | Sets each bit to 1 if both bits are 1                                  | `x & y`       |\n",
    "| `|`      | OR                  | Sets each bit to 1 if one of two bits is 1                             | `x | y`       |\n",
    "| `^`      | XOR                 | Sets each bit to 1 if only one of two bits is 1                        | `x ^ y`       |\n",
    "| `~`      | NOT                 | Inverts all the bits                                                  | `~x`          |\n",
    "| `<<`     | Zero fill left shift | Shift left by pushing zeros in from the right and let the leftmost bits fall off | `x << 2` |\n",
    "| `>>`     | Signed right shift  | Shift right by pushing copies of the leftmost bit in from the left, and let the rightmost bits fall off | `x >> 2` |\n"
   ]
  },
  {
   "cell_type": "markdown",
   "metadata": {},
   "source": [
    "## - Python Lists    "
   ]
  },
  {
   "cell_type": "markdown",
   "metadata": {},
   "source": [
    "**- Python List Definition**\n",
    "\n",
    "In Python, a list is a built-in data structure used to store an ordered collection of elements. Lists are defined using square brackets `[ ]` and can contain elements of different data types, including numbers, strings, and objects.\n",
    "\n",
    "##### Example:\n",
    "```python\n",
    "\n",
    "my_list = [1, 2, 3, 'apple', 'banana']\n"
   ]
  },
  {
   "cell_type": "markdown",
   "metadata": {},
   "source": [
    "-**Key Characteristics of Lists:**\n",
    "\n",
    "- **Ordered**: Lists maintain the order of elements based on their position in the list.\n",
    "\n",
    "- **Mutable**: You can modify, add, or remove elements from a list.\n",
    "\n",
    "- **Heterogeneous**: Lists can contain elements of different data types.\n",
    "\n",
    "- **Accessed by Index**: Elements in a list can be accessed by their position using indexing, starting from 0 for the first element.\n"
   ]
  },
  {
   "cell_type": "markdown",
   "metadata": {
    "tags": []
   },
   "source": [
    "-**List Method:**"
   ]
  },
  {
   "cell_type": "markdown",
   "metadata": {},
   "source": [
    "| Method                   | Description                                            | Example                                          | Result                    |\n",
    "|--------------------------|--------------------------------------------------------|--------------------------------------------------|---------------------------|\n",
    "| `append(element)`        | Adds an element to the end of the list.               | `my_list.append(4)`                             | `my_list` is now `[1, 2, 3, 'apple', 'banana', 4]` |\n",
    "| `insert(index, element)` | Inserts an element at the specified index.           | `my_list.insert(2, 'cherry')`                   | `my_list` is now `[1, 2, 'cherry', 3, 'apple', 'banana']` |\n",
    "| `remove(element)`        | Removes the first occurrence of the specified element. | `my_list.remove('apple')`                       | `my_list` is now `[1, 2, 'cherry', 3, 'banana']` |\n",
    "| `pop(index)`             | Removes and returns the element at the specified index. | `popped = my_list.pop(1)`                       | `popped` is `2`, `my_list` is `[1, 'cherry', 3, 'banana']` |\n",
    "| `extend(iterable)`       | Appends elements from an iterable to the list.       | `my_list.extend([5, 6, 7])`                     | `my_list` is now `[1, 'cherry', 3, 'banana', 5, 6, 7]` |\n",
    "| `index(element)`         | Returns the index of the first occurrence of the element. | `index = my_list.index('banana')`             | `index` is `3` |\n",
    "| `count(element)`         | Returns the number of times the element appears in the list. | `count = my_list.count('banana')`             | `count` is `1` |\n",
    "| `sort()`                 | Sorts the list in ascending order.                    | `my_list.sort()`                                | `my_list` is now `[1, 3, 5, 6, 7, 'banana', 'cherry']` |\n",
    "| `reverse()`              | Reverses the order of elements in the list.           | `my_list.reverse()`                             | `my_list` is now `['cherry', 'banana', 7, 6, 5, 3, 1]` |\n",
    "| `clear()`                | Removes all elements from the list.                   | `my_list.clear()`                               | `my_list` is now `[]` |\n",
    "| `copy()`                 | Returns a shallow copy of the list.                  | `new_list = my_list.copy()`                     | `new_list` is a separate copy of `my_list` |\n"
   ]
  },
  {
   "cell_type": "markdown",
   "metadata": {},
   "source": [
    "## Loop Lists"
   ]
  },
  {
   "cell_type": "markdown",
   "metadata": {},
   "source": [
    "You can loop through the list items by using a for loop:"
   ]
  },
  {
   "cell_type": "code",
   "execution_count": 12,
   "metadata": {
    "tags": []
   },
   "outputs": [
    {
     "name": "stdout",
     "output_type": "stream",
     "text": [
      "Banana\n",
      "Mango\n",
      "Orange\n",
      "2\n",
      "Welcome\n"
     ]
    }
   ],
   "source": [
    "newList = ['Banana',\"Mango\",\"Orange\",2,\"Welcome\"]\n",
    "\n",
    "for x in newList:\n",
    "    print(x)"
   ]
  },
  {
   "cell_type": "markdown",
   "metadata": {},
   "source": [
    "### - Method 1 :  Loop Through the Index Numbers"
   ]
  },
  {
   "cell_type": "markdown",
   "metadata": {},
   "source": [
    "You can also loop through the list items by referring to their index number.\n",
    "Use the <b>range()</b> and <b>len()</b> functions to create a suitable iterable.\n"
   ]
  },
  {
   "cell_type": "code",
   "execution_count": 16,
   "metadata": {
    "tags": []
   },
   "outputs": [
    {
     "name": "stdout",
     "output_type": "stream",
     "text": [
      "Banana\n",
      "Mango\n",
      "Orange\n",
      "2\n",
      "Welcome\n"
     ]
    }
   ],
   "source": [
    "for i in range(len(newList)):\n",
    "    print(newList[i])"
   ]
  },
  {
   "cell_type": "code",
   "execution_count": 16,
   "metadata": {
    "tags": []
   },
   "outputs": [
    {
     "name": "stdout",
     "output_type": "stream",
     "text": [
      "Banana\n",
      "Mango\n",
      "Orange\n",
      "2\n",
      "Welcome\n"
     ]
    }
   ],
   "source": [
    "for i in range(len(newList)):\n",
    "    print(newList[i])"
   ]
  },
  {
   "cell_type": "markdown",
   "metadata": {},
   "source": [
    "### - Method 2 : Using a While Loop"
   ]
  },
  {
   "cell_type": "code",
   "execution_count": 22,
   "metadata": {
    "tags": []
   },
   "outputs": [
    {
     "name": "stdout",
     "output_type": "stream",
     "text": [
      "Banana\n",
      "Mango\n",
      "Orange\n",
      "2\n",
      "Welcome\n"
     ]
    }
   ],
   "source": [
    "j = 0 \n",
    "\n",
    "while j < len(newList):\n",
    "    print(newList[j])\n",
    "    j = j+1"
   ]
  },
  {
   "cell_type": "markdown",
   "metadata": {},
   "source": [
    "### - Method 3 : Looping Using List Comprehension"
   ]
  },
  {
   "cell_type": "code",
   "execution_count": 23,
   "metadata": {},
   "outputs": [
    {
     "name": "stdout",
     "output_type": "stream",
     "text": [
      "Banana\n",
      "Mango\n",
      "Orange\n",
      "2\n",
      "Welcome\n"
     ]
    },
    {
     "data": {
      "text/plain": [
       "[None, None, None, None, None]"
      ]
     },
     "execution_count": 23,
     "metadata": {},
     "output_type": "execute_result"
    }
   ],
   "source": [
    "[print(x) for x in newList]"
   ]
  },
  {
   "cell_type": "markdown",
   "metadata": {},
   "source": [
    "## List Comprehension"
   ]
  },
  {
   "cell_type": "markdown",
   "metadata": {},
   "source": [
    "**Syntax:**"
   ]
  },
  {
   "cell_type": "markdown",
   "metadata": {
    "tags": []
   },
   "source": [
    "newlist = [expression for item in iterable if condition == True]"
   ]
  },
  {
   "cell_type": "markdown",
   "metadata": {},
   "source": [
    "List comprehensions provide shorter syntax when you want to create a new list based on the values ​​of an existing list.\n"
   ]
  },
  {
   "cell_type": "code",
   "execution_count": 28,
   "metadata": {
    "tags": []
   },
   "outputs": [
    {
     "name": "stdout",
     "output_type": "stream",
     "text": [
      "['apple', 'banana', 'mango']\n"
     ]
    }
   ],
   "source": [
    "#Example 1  : \n",
    "\n",
    "fruits = [\"apple\", \"banana\", \"cherry\", \"kiwi\", \"mango\"]\n",
    "MyNewlist = []\n",
    "\n",
    "for x in fruits: \n",
    "    if \"a\" in x:\n",
    "        MyNewlist.append(x)\n",
    "                \n",
    "print(MyNewlist)"
   ]
  },
  {
   "cell_type": "code",
   "execution_count": 33,
   "metadata": {
    "tags": []
   },
   "outputs": [
    {
     "name": "stdout",
     "output_type": "stream",
     "text": [
      "['apple', 'banana', 'mango']\n"
     ]
    }
   ],
   "source": [
    "#Example 2 : Using List comprehension \n",
    "\n",
    "MyNewlist= [x for x in fruits if \"a\" in x]\n",
    "print(MyNewlist)"
   ]
  },
  {
   "cell_type": "code",
   "execution_count": 37,
   "metadata": {
    "tags": []
   },
   "outputs": [
    {
     "name": "stdout",
     "output_type": "stream",
     "text": [
      "[0, 1, 2, 3, 4, 5, 6, 7, 8, 9]\n"
     ]
    }
   ],
   "source": [
    "#Example 3 : Using range in List comprehension  \n",
    "\n",
    "newlist = [x for x in range(10)]\n",
    "\n",
    "print(newlist)"
   ]
  },
  {
   "cell_type": "code",
   "execution_count": 40,
   "metadata": {
    "tags": []
   },
   "outputs": [
    {
     "name": "stdout",
     "output_type": "stream",
     "text": [
      "newlist: ['APPLE', 'BANANA', 'CHERRY', 'KIWI', 'MANGO']\n"
     ]
    }
   ],
   "source": [
    "newlist = [x.upper() for x in fruits]\n",
    "print(\"newlist:\",newlist)"
   ]
  },
  {
   "cell_type": "markdown",
   "metadata": {},
   "source": [
    "## Creating a Function"
   ]
  },
  {
   "cell_type": "markdown",
   "metadata": {},
   "source": [
    "Function is defined using the **def** keyword:"
   ]
  },
  {
   "cell_type": "code",
   "execution_count": 42,
   "metadata": {
    "tags": []
   },
   "outputs": [
    {
     "name": "stdout",
     "output_type": "stream",
     "text": [
      "Hellow i'm your fonction\n"
     ]
    }
   ],
   "source": [
    "#Example : \n",
    "\n",
    "def my_funtion():\n",
    "    print(\"Hellow i'm your fonction\")\n",
    "    \n",
    "    \n",
    "my_funtion()\n"
   ]
  },
  {
   "cell_type": "markdown",
   "metadata": {},
   "source": [
    "#### Funtion with Arguments"
   ]
  },
  {
   "cell_type": "code",
   "execution_count": 43,
   "metadata": {
    "tags": []
   },
   "outputs": [
    {
     "name": "stdout",
     "output_type": "stream",
     "text": [
      "Hi my name is  Francis Nganou i'am 37\n"
     ]
    }
   ],
   "source": [
    "def the_function(name , age):\n",
    "    print(\"Hi my name is \",name,\"i'am\",age)\n",
    "    \n",
    "\n",
    "the_function(\"Francis Nganou\",37)\n",
    "    "
   ]
  },
  {
   "cell_type": "markdown",
   "metadata": {},
   "source": [
    "#### Arbitrary Arguments, *args"
   ]
  },
  {
   "cell_type": "markdown",
   "metadata": {},
   "source": [
    "If the number of arguments is unknown, add a <b>* </b> before the parameter name:"
   ]
  },
  {
   "cell_type": "code",
   "execution_count": 45,
   "metadata": {
    "tags": []
   },
   "outputs": [
    {
     "name": "stdout",
     "output_type": "stream",
     "text": [
      "All arguments: ('first', 'second', 'the last one')\n",
      "only the second argument: second\n"
     ]
    }
   ],
   "source": [
    "def this_function(*arg):\n",
    "    print(\"All arguments:\",arg)#print all arguments\n",
    "    print(\"only the second argument:\",arg[1]) # Print only the second one\n",
    "    \n",
    "    \n",
    "this_function(\"first\" ,\"second\",\"the last one\")"
   ]
  },
  {
   "cell_type": "markdown",
   "metadata": {},
   "source": [
    "If the number of keyword arguments is unknown, add a double ** before the parameter name:"
   ]
  },
  {
   "cell_type": "markdown",
   "metadata": {
    "tags": []
   },
   "source": [
    "**Using `*args` for Arbitrary Positional Arguments:**\n",
    "\n",
    "In Python, you can define a function with `*args` to accept an arbitrary number of positional arguments. This syntax collects these arguments into a tuple. You can use any name in place of `args,` but `*` is the convention. Here's an example:\n",
    "\n",
    "```python\n",
    "def my_function(*args):\n",
    "    for arg in args:\n",
    "        print(arg)\n",
    "\n",
    "my_function(1, 2, 3)  # Output: 1, 2, 3\n"
   ]
  },
  {
   "cell_type": "markdown",
   "metadata": {},
   "source": [
    "## Python Function Arguments: *args and **kwargs\n",
    "\n",
    "In Python, when defining a function, you can use `*args` and `**kwargs` in the function arguments to handle variable-length positional and keyword arguments. Here's the difference between the two:\n",
    "\n",
    "### `*args` (Arbitrary Positional Arguments)\n",
    "\n",
    "- The `*args` syntax allows a function to accept an arbitrary number of positional arguments.\n",
    "- It collects these positional arguments into a **tuple**.\n",
    "- You can use any name in place of `args`, but `*` is the convention.\n",
    "\n",
    "**Example:**\n",
    "\n",
    "```python\n",
    "def my_function(*args):\n",
    "    for arg in args:\n",
    "        print(arg)\n",
    "\n",
    "my_function(1, 2, 3)  # Output: 1, 2, 3\n"
   ]
  },
  {
   "cell_type": "markdown",
   "metadata": {},
   "source": [
    "### `**kwargs` (Arbitrary Keyword Arguments)\n",
    "\n",
    "- In Python, the `**kwargs` syntax allows a function to accept an arbitrary number of keyword arguments. \n",
    "- It collects these keyword arguments into a **dictionary**, where the keys are the argument names, and the values are the corresponding values.\n",
    "- You can use any name in place of `kwargs`, but `**` is the convention.\n",
    "\n",
    "\n",
    "**Example:**\n",
    "\n",
    "```python\n",
    "def my_function(**kwargs):\n",
    "    for key, value in kwargs.items():\n",
    "        print(key, value)\n",
    "\n",
    "my_function(a=1, b=2, c=3)  # Output: a 1, b 2, c 3\n"
   ]
  },
  {
   "cell_type": "markdown",
   "metadata": {},
   "source": [
    "### Default Parameter Value"
   ]
  },
  {
   "cell_type": "code",
   "execution_count": 48,
   "metadata": {},
   "outputs": [
    {
     "name": "stdout",
     "output_type": "stream",
     "text": [
      "I am from Norway\n",
      "I am from Sweden\n",
      "I am from India\n",
      "I am from Norway\n",
      "I am from Brazil\n"
     ]
    }
   ],
   "source": [
    "def my_function(country = \"Norway\"):\n",
    "    print(\"I am from \" + country)\n",
    "    \n",
    "my_function()\n",
    "my_function(\"Sweden\")\n",
    "my_function(\"India\")\n",
    "my_function()\n",
    "my_function(\"Brazil\")"
   ]
  },
  {
   "cell_type": "code",
   "execution_count": null,
   "metadata": {},
   "outputs": [],
   "source": []
  },
  {
   "cell_type": "code",
   "execution_count": null,
   "metadata": {},
   "outputs": [],
   "source": []
  },
  {
   "cell_type": "code",
   "execution_count": null,
   "metadata": {},
   "outputs": [],
   "source": []
  },
  {
   "cell_type": "code",
   "execution_count": null,
   "metadata": {},
   "outputs": [],
   "source": []
  },
  {
   "cell_type": "code",
   "execution_count": null,
   "metadata": {},
   "outputs": [],
   "source": []
  },
  {
   "cell_type": "code",
   "execution_count": null,
   "metadata": {},
   "outputs": [],
   "source": []
  },
  {
   "cell_type": "code",
   "execution_count": null,
   "metadata": {},
   "outputs": [],
   "source": []
  },
  {
   "cell_type": "code",
   "execution_count": null,
   "metadata": {},
   "outputs": [],
   "source": []
  },
  {
   "cell_type": "code",
   "execution_count": null,
   "metadata": {},
   "outputs": [],
   "source": []
  },
  {
   "cell_type": "code",
   "execution_count": null,
   "metadata": {},
   "outputs": [],
   "source": []
  }
 ],
 "metadata": {
  "kernelspec": {
   "display_name": "Python 3 (ipykernel)",
   "language": "python",
   "name": "python3"
  },
  "language_info": {
   "codemirror_mode": {
    "name": "ipython",
    "version": 3
   },
   "file_extension": ".py",
   "mimetype": "text/x-python",
   "name": "python",
   "nbconvert_exporter": "python",
   "pygments_lexer": "ipython3",
   "version": "3.11.5"
  }
 },
 "nbformat": 4,
 "nbformat_minor": 4
}
