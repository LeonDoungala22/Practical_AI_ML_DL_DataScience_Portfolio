{
 "cells": [
  {
   "cell_type": "markdown",
   "id": "fbcda5d9-ddf6-4be4-86ff-8684a66f2a08",
   "metadata": {},
   "source": [
    "# Pandas"
   ]
  },
  {
   "cell_type": "markdown",
   "id": "1341c3e3-d4c4-4e14-b801-5a5e006dc57d",
   "metadata": {},
   "source": [
    "[- W3School Dcoumentation](https://www.w3schools.com/python/pandas/pandas_intro.asp)"
   ]
  },
  {
   "cell_type": "markdown",
   "id": "489cddf3-eb38-4cec-9263-7a96d6048e05",
   "metadata": {},
   "source": [
    "[- Pandas official Documentations ](https://pandas.pydata.org/pandas-docs/stable/reference/index.html)"
   ]
  },
  {
   "cell_type": "markdown",
   "id": "3c138a91-7810-4318-ad49-74e8b734df28",
   "metadata": {},
   "source": [
    "[-Keagle Dataset reference](https://www.kaggle.com/datasets/muhammadbinimran/flight-price-prediction)"
   ]
  },
  {
   "cell_type": "code",
   "execution_count": 51,
   "id": "f5dd57e1-9449-4edf-83ff-8332d36ede6f",
   "metadata": {
    "tags": []
   },
   "outputs": [],
   "source": [
    "import pandas as pd\n",
    "\n",
    "import warnings\n",
    "warnings.filterwarnings('ignore')\n"
   ]
  },
  {
   "cell_type": "code",
   "execution_count": 2,
   "id": "df5c8424-1c57-4ca6-b1e1-14d7626e7896",
   "metadata": {
    "tags": []
   },
   "outputs": [
    {
     "data": {
      "text/html": [
       "<div>\n",
       "<style scoped>\n",
       "    .dataframe tbody tr th:only-of-type {\n",
       "        vertical-align: middle;\n",
       "    }\n",
       "\n",
       "    .dataframe tbody tr th {\n",
       "        vertical-align: top;\n",
       "    }\n",
       "\n",
       "    .dataframe thead th {\n",
       "        text-align: right;\n",
       "    }\n",
       "</style>\n",
       "<table border=\"1\" class=\"dataframe\">\n",
       "  <thead>\n",
       "    <tr style=\"text-align: right;\">\n",
       "      <th></th>\n",
       "      <th>car</th>\n",
       "      <th>passings</th>\n",
       "    </tr>\n",
       "  </thead>\n",
       "  <tbody>\n",
       "    <tr>\n",
       "      <th>0</th>\n",
       "      <td>BMW</td>\n",
       "      <td>2</td>\n",
       "    </tr>\n",
       "    <tr>\n",
       "      <th>1</th>\n",
       "      <td>Volvo</td>\n",
       "      <td>7</td>\n",
       "    </tr>\n",
       "    <tr>\n",
       "      <th>2</th>\n",
       "      <td>Ford</td>\n",
       "      <td>2</td>\n",
       "    </tr>\n",
       "  </tbody>\n",
       "</table>\n",
       "</div>"
      ],
      "text/plain": [
       "     car  passings\n",
       "0    BMW         2\n",
       "1  Volvo         7\n",
       "2   Ford         2"
      ]
     },
     "execution_count": 2,
     "metadata": {},
     "output_type": "execute_result"
    }
   ],
   "source": [
    "dataset = {\n",
    "    'car':[\"BMW\",\"Volvo\",\"Ford\"],\n",
    "    'passings':[2,7,2]\n",
    "\n",
    "}\n",
    "\n",
    "myvar = pd.DataFrame(dataset)\n",
    "myvar"
   ]
  },
  {
   "cell_type": "code",
   "execution_count": 3,
   "id": "75ac681a-c36f-4f71-b376-9691c6ba00fe",
   "metadata": {
    "tags": []
   },
   "outputs": [
    {
     "name": "stdout",
     "output_type": "stream",
     "text": [
      "my_var[0] 0    1\n",
      "1    2\n",
      "2    3\n",
      "3    4\n",
      "4    5\n",
      "dtype: int64\n",
      "my_var[0]: 1\n"
     ]
    }
   ],
   "source": [
    "#Pandas Series\n",
    "\n",
    "a = [1,2,3,4,5]\n",
    "\n",
    "my_var = pd.Series(a)\n",
    "print(\"my_var[0]\",my_var)\n",
    "print(\"my_var[0]:\",my_var[0])"
   ]
  },
  {
   "cell_type": "code",
   "execution_count": 4,
   "id": "5d73d53a-5e35-491a-8dc5-4d22bc129db7",
   "metadata": {
    "tags": []
   },
   "outputs": [
    {
     "data": {
      "text/plain": [
       "x    2\n",
       "y    3\n",
       "z    4\n",
       "dtype: int64"
      ]
     },
     "execution_count": 4,
     "metadata": {},
     "output_type": "execute_result"
    }
   ],
   "source": [
    "#Create Labels\n",
    "\n",
    "b = [2,3,4]\n",
    "ind = [\"x\",\"y\",\"z\"]\n",
    "\n",
    "b_s = pd.Series(b, ind)\n",
    "b_s"
   ]
  },
  {
   "cell_type": "code",
   "execution_count": 5,
   "id": "d5afbefe-fb2b-4f97-9fb9-5fee348f824b",
   "metadata": {
    "tags": []
   },
   "outputs": [
    {
     "data": {
      "text/plain": [
       "day1    234\n",
       "day2    432\n",
       "day3    832\n",
       "dtype: int64"
      ]
     },
     "execution_count": 5,
     "metadata": {},
     "output_type": "execute_result"
    }
   ],
   "source": [
    "# Key/Value Objects as Series\n",
    "\n",
    "calories = {\n",
    "        \"day1\":234 ,\n",
    "        \"day2\":432 , \n",
    "        \"day3\":832 \n",
    "}\n",
    "my_calories = pd.Series(calories)\n",
    "my_calories"
   ]
  },
  {
   "cell_type": "code",
   "execution_count": 6,
   "id": "f6b70033-f925-4ce6-b25f-fe876414d0cd",
   "metadata": {
    "tags": []
   },
   "outputs": [
    {
     "name": "stdout",
     "output_type": "stream",
     "text": [
      "Df:    calories  Duration\n",
      "0       234        43\n",
      "1       345        34\n",
      "2       453        56\n",
      "calories    234\n",
      "Duration     43\n",
      "Name: 0, dtype: int64\n"
     ]
    },
    {
     "data": {
      "text/html": [
       "<div>\n",
       "<style scoped>\n",
       "    .dataframe tbody tr th:only-of-type {\n",
       "        vertical-align: middle;\n",
       "    }\n",
       "\n",
       "    .dataframe tbody tr th {\n",
       "        vertical-align: top;\n",
       "    }\n",
       "\n",
       "    .dataframe thead th {\n",
       "        text-align: right;\n",
       "    }\n",
       "</style>\n",
       "<table border=\"1\" class=\"dataframe\">\n",
       "  <thead>\n",
       "    <tr style=\"text-align: right;\">\n",
       "      <th></th>\n",
       "      <th>calories</th>\n",
       "      <th>Duration</th>\n",
       "    </tr>\n",
       "  </thead>\n",
       "  <tbody>\n",
       "    <tr>\n",
       "      <th>day1</th>\n",
       "      <td>234</td>\n",
       "      <td>43</td>\n",
       "    </tr>\n",
       "    <tr>\n",
       "      <th>day2</th>\n",
       "      <td>345</td>\n",
       "      <td>34</td>\n",
       "    </tr>\n",
       "    <tr>\n",
       "      <th>day3</th>\n",
       "      <td>453</td>\n",
       "      <td>56</td>\n",
       "    </tr>\n",
       "  </tbody>\n",
       "</table>\n",
       "</div>"
      ],
      "text/plain": [
       "      calories  Duration\n",
       "day1       234        43\n",
       "day2       345        34\n",
       "day3       453        56"
      ]
     },
     "execution_count": 6,
     "metadata": {},
     "output_type": "execute_result"
    }
   ],
   "source": [
    "# DataFrames\n",
    "\n",
    "data = {\n",
    "     \"calories\":[234,345,453],\n",
    "    \"Duration\":[43,34,56]\n",
    "}\n",
    "df = pd.DataFrame(data)\n",
    "print(\"Df:\",df)   \n",
    "\n",
    "#PS: A Pandas DataFrame is a 2 dimensional data structure, like a 2 dimensional array, or a table with rows and columns.\n",
    "\n",
    "#Dataframe : Locate Row\n",
    "\n",
    "print(df.loc[0])\n",
    "\n",
    "#use a list of indexes:\n",
    "df.loc[[0, 1]]\n",
    "\n",
    "\n",
    "#Named Indexes\n",
    "df = pd.DataFrame(data , index=[\"day1\",\"day2\",\"day3\"])\n",
    "df\n"
   ]
  },
  {
   "cell_type": "code",
   "execution_count": 7,
   "id": "86a03c6b-f72a-45fe-ac54-2c3e8786213e",
   "metadata": {
    "tags": []
   },
   "outputs": [
    {
     "name": "stdout",
     "output_type": "stream",
     "text": [
      "calories    345\n",
      "Duration     34\n",
      "Name: day2, dtype: int64\n"
     ]
    }
   ],
   "source": [
    "#Locate Named Indexes\n",
    "print(df.loc[\"day2\"])"
   ]
  },
  {
   "cell_type": "code",
   "execution_count": 8,
   "id": "15f8b04a-49ca-408b-96db-d418f3ab0d51",
   "metadata": {
    "tags": []
   },
   "outputs": [
    {
     "data": {
      "text/html": [
       "<div>\n",
       "<style scoped>\n",
       "    .dataframe tbody tr th:only-of-type {\n",
       "        vertical-align: middle;\n",
       "    }\n",
       "\n",
       "    .dataframe tbody tr th {\n",
       "        vertical-align: top;\n",
       "    }\n",
       "\n",
       "    .dataframe thead th {\n",
       "        text-align: right;\n",
       "    }\n",
       "</style>\n",
       "<table border=\"1\" class=\"dataframe\">\n",
       "  <thead>\n",
       "    <tr style=\"text-align: right;\">\n",
       "      <th></th>\n",
       "      <th>Airline</th>\n",
       "      <th>Date_of_Journey</th>\n",
       "      <th>Source</th>\n",
       "      <th>Destination</th>\n",
       "      <th>Route</th>\n",
       "      <th>Dep_Time</th>\n",
       "      <th>Arrival_Time</th>\n",
       "      <th>Duration</th>\n",
       "      <th>Total_Stops</th>\n",
       "      <th>Additional_Info</th>\n",
       "      <th>Price</th>\n",
       "    </tr>\n",
       "  </thead>\n",
       "  <tbody>\n",
       "    <tr>\n",
       "      <th>0</th>\n",
       "      <td>IndiGo</td>\n",
       "      <td>24/03/2019</td>\n",
       "      <td>Banglore</td>\n",
       "      <td>New Delhi</td>\n",
       "      <td>BLR → DEL</td>\n",
       "      <td>22:20</td>\n",
       "      <td>01:10 22 Mar</td>\n",
       "      <td>2h 50m</td>\n",
       "      <td>non-stop</td>\n",
       "      <td>No info</td>\n",
       "      <td>3897</td>\n",
       "    </tr>\n",
       "    <tr>\n",
       "      <th>1</th>\n",
       "      <td>Air India</td>\n",
       "      <td>1/05/2019</td>\n",
       "      <td>Kolkata</td>\n",
       "      <td>Banglore</td>\n",
       "      <td>CCU → IXR → BBI → BLR</td>\n",
       "      <td>05:50</td>\n",
       "      <td>13:15</td>\n",
       "      <td>7h 25m</td>\n",
       "      <td>2 stops</td>\n",
       "      <td>No info</td>\n",
       "      <td>7662</td>\n",
       "    </tr>\n",
       "    <tr>\n",
       "      <th>2</th>\n",
       "      <td>Jet Airways</td>\n",
       "      <td>9/06/2019</td>\n",
       "      <td>Delhi</td>\n",
       "      <td>Cochin</td>\n",
       "      <td>DEL → LKO → BOM → COK</td>\n",
       "      <td>09:25</td>\n",
       "      <td>04:25 10 Jun</td>\n",
       "      <td>19h</td>\n",
       "      <td>2 stops</td>\n",
       "      <td>No info</td>\n",
       "      <td>13882</td>\n",
       "    </tr>\n",
       "    <tr>\n",
       "      <th>3</th>\n",
       "      <td>IndiGo</td>\n",
       "      <td>12/05/2019</td>\n",
       "      <td>Kolkata</td>\n",
       "      <td>Banglore</td>\n",
       "      <td>CCU → NAG → BLR</td>\n",
       "      <td>18:05</td>\n",
       "      <td>23:30</td>\n",
       "      <td>5h 25m</td>\n",
       "      <td>1 stop</td>\n",
       "      <td>No info</td>\n",
       "      <td>6218</td>\n",
       "    </tr>\n",
       "    <tr>\n",
       "      <th>4</th>\n",
       "      <td>IndiGo</td>\n",
       "      <td>01/03/2019</td>\n",
       "      <td>Banglore</td>\n",
       "      <td>New Delhi</td>\n",
       "      <td>BLR → NAG → DEL</td>\n",
       "      <td>16:50</td>\n",
       "      <td>21:35</td>\n",
       "      <td>4h 45m</td>\n",
       "      <td>1 stop</td>\n",
       "      <td>No info</td>\n",
       "      <td>13302</td>\n",
       "    </tr>\n",
       "    <tr>\n",
       "      <th>...</th>\n",
       "      <td>...</td>\n",
       "      <td>...</td>\n",
       "      <td>...</td>\n",
       "      <td>...</td>\n",
       "      <td>...</td>\n",
       "      <td>...</td>\n",
       "      <td>...</td>\n",
       "      <td>...</td>\n",
       "      <td>...</td>\n",
       "      <td>...</td>\n",
       "      <td>...</td>\n",
       "    </tr>\n",
       "    <tr>\n",
       "      <th>10678</th>\n",
       "      <td>Air Asia</td>\n",
       "      <td>9/04/2019</td>\n",
       "      <td>Kolkata</td>\n",
       "      <td>Banglore</td>\n",
       "      <td>CCU → BLR</td>\n",
       "      <td>19:55</td>\n",
       "      <td>22:25</td>\n",
       "      <td>2h 30m</td>\n",
       "      <td>non-stop</td>\n",
       "      <td>No info</td>\n",
       "      <td>4107</td>\n",
       "    </tr>\n",
       "    <tr>\n",
       "      <th>10679</th>\n",
       "      <td>Air India</td>\n",
       "      <td>27/04/2019</td>\n",
       "      <td>Kolkata</td>\n",
       "      <td>Banglore</td>\n",
       "      <td>CCU → BLR</td>\n",
       "      <td>20:45</td>\n",
       "      <td>23:20</td>\n",
       "      <td>2h 35m</td>\n",
       "      <td>non-stop</td>\n",
       "      <td>No info</td>\n",
       "      <td>4145</td>\n",
       "    </tr>\n",
       "    <tr>\n",
       "      <th>10680</th>\n",
       "      <td>Jet Airways</td>\n",
       "      <td>27/04/2019</td>\n",
       "      <td>Banglore</td>\n",
       "      <td>Delhi</td>\n",
       "      <td>BLR → DEL</td>\n",
       "      <td>08:20</td>\n",
       "      <td>11:20</td>\n",
       "      <td>3h</td>\n",
       "      <td>non-stop</td>\n",
       "      <td>No info</td>\n",
       "      <td>7229</td>\n",
       "    </tr>\n",
       "    <tr>\n",
       "      <th>10681</th>\n",
       "      <td>Vistara</td>\n",
       "      <td>01/03/2019</td>\n",
       "      <td>Banglore</td>\n",
       "      <td>New Delhi</td>\n",
       "      <td>BLR → DEL</td>\n",
       "      <td>11:30</td>\n",
       "      <td>14:10</td>\n",
       "      <td>2h 40m</td>\n",
       "      <td>non-stop</td>\n",
       "      <td>No info</td>\n",
       "      <td>12648</td>\n",
       "    </tr>\n",
       "    <tr>\n",
       "      <th>10682</th>\n",
       "      <td>Air India</td>\n",
       "      <td>9/05/2019</td>\n",
       "      <td>Delhi</td>\n",
       "      <td>Cochin</td>\n",
       "      <td>DEL → GOI → BOM → COK</td>\n",
       "      <td>10:55</td>\n",
       "      <td>19:15</td>\n",
       "      <td>8h 20m</td>\n",
       "      <td>2 stops</td>\n",
       "      <td>No info</td>\n",
       "      <td>11753</td>\n",
       "    </tr>\n",
       "  </tbody>\n",
       "</table>\n",
       "<p>10683 rows × 11 columns</p>\n",
       "</div>"
      ],
      "text/plain": [
       "           Airline Date_of_Journey    Source Destination  \\\n",
       "0           IndiGo      24/03/2019  Banglore   New Delhi   \n",
       "1        Air India       1/05/2019   Kolkata    Banglore   \n",
       "2      Jet Airways       9/06/2019     Delhi      Cochin   \n",
       "3           IndiGo      12/05/2019   Kolkata    Banglore   \n",
       "4           IndiGo      01/03/2019  Banglore   New Delhi   \n",
       "...            ...             ...       ...         ...   \n",
       "10678     Air Asia       9/04/2019   Kolkata    Banglore   \n",
       "10679    Air India      27/04/2019   Kolkata    Banglore   \n",
       "10680  Jet Airways      27/04/2019  Banglore       Delhi   \n",
       "10681      Vistara      01/03/2019  Banglore   New Delhi   \n",
       "10682    Air India       9/05/2019     Delhi      Cochin   \n",
       "\n",
       "                       Route Dep_Time  Arrival_Time Duration Total_Stops  \\\n",
       "0                  BLR → DEL    22:20  01:10 22 Mar   2h 50m    non-stop   \n",
       "1      CCU → IXR → BBI → BLR    05:50         13:15   7h 25m     2 stops   \n",
       "2      DEL → LKO → BOM → COK    09:25  04:25 10 Jun      19h     2 stops   \n",
       "3            CCU → NAG → BLR    18:05         23:30   5h 25m      1 stop   \n",
       "4            BLR → NAG → DEL    16:50         21:35   4h 45m      1 stop   \n",
       "...                      ...      ...           ...      ...         ...   \n",
       "10678              CCU → BLR    19:55         22:25   2h 30m    non-stop   \n",
       "10679              CCU → BLR    20:45         23:20   2h 35m    non-stop   \n",
       "10680              BLR → DEL    08:20         11:20       3h    non-stop   \n",
       "10681              BLR → DEL    11:30         14:10   2h 40m    non-stop   \n",
       "10682  DEL → GOI → BOM → COK    10:55         19:15   8h 20m     2 stops   \n",
       "\n",
       "      Additional_Info  Price  \n",
       "0             No info   3897  \n",
       "1             No info   7662  \n",
       "2             No info  13882  \n",
       "3             No info   6218  \n",
       "4             No info  13302  \n",
       "...               ...    ...  \n",
       "10678         No info   4107  \n",
       "10679         No info   4145  \n",
       "10680         No info   7229  \n",
       "10681         No info  12648  \n",
       "10682         No info  11753  \n",
       "\n",
       "[10683 rows x 11 columns]"
      ]
     },
     "execution_count": 8,
     "metadata": {},
     "output_type": "execute_result"
    }
   ],
   "source": [
    "#Load Files Into a DataFrame\n",
    "\n",
    "df = pd.read_csv(\"Datasets/Data_Train.csv\")\n",
    "df"
   ]
  },
  {
   "cell_type": "code",
   "execution_count": 9,
   "id": "1b976d3e-e2e9-49b2-8c84-79d492924233",
   "metadata": {},
   "outputs": [
    {
     "name": "stdout",
     "output_type": "stream",
     "text": [
      "       Airline Date_of_Journey    Source Destination                  Route Dep_Time  Arrival_Time Duration Total_Stops Additional_Info  Price\n",
      "0       IndiGo      24/03/2019  Banglore   New Delhi              BLR → DEL    22:20  01:10 22 Mar   2h 50m    non-stop         No info   3897\n",
      "1    Air India       1/05/2019   Kolkata    Banglore  CCU → IXR → BBI → BLR    05:50         13:15   7h 25m     2 stops         No info   7662\n",
      "2  Jet Airways       9/06/2019     Delhi      Cochin  DEL → LKO → BOM → COK    09:25  04:25 10 Jun      19h     2 stops         No info  13882\n",
      "3       IndiGo      12/05/2019   Kolkata    Banglore        CCU → NAG → BLR    18:05         23:30   5h 25m      1 stop         No info   6218\n",
      "4       IndiGo      01/03/2019  Banglore   New Delhi        BLR → NAG → DEL    16:50         21:35   4h 45m      1 stop         No info  13302\n"
     ]
    }
   ],
   "source": [
    "#print(df.to_string()) # To view all the dataset\n",
    "print(df.head().to_string()) # To view just a part of the dataset"
   ]
  },
  {
   "cell_type": "code",
   "execution_count": 10,
   "id": "88847499-1c0d-468b-a69d-9ef18baab02e",
   "metadata": {
    "tags": []
   },
   "outputs": [
    {
     "data": {
      "text/html": [
       "<div>\n",
       "<style scoped>\n",
       "    .dataframe tbody tr th:only-of-type {\n",
       "        vertical-align: middle;\n",
       "    }\n",
       "\n",
       "    .dataframe tbody tr th {\n",
       "        vertical-align: top;\n",
       "    }\n",
       "\n",
       "    .dataframe thead th {\n",
       "        text-align: right;\n",
       "    }\n",
       "</style>\n",
       "<table border=\"1\" class=\"dataframe\">\n",
       "  <thead>\n",
       "    <tr style=\"text-align: right;\">\n",
       "      <th></th>\n",
       "      <th>Airline</th>\n",
       "      <th>Date_of_Journey</th>\n",
       "      <th>Source</th>\n",
       "      <th>Destination</th>\n",
       "      <th>Route</th>\n",
       "      <th>Dep_Time</th>\n",
       "      <th>Arrival_Time</th>\n",
       "      <th>Duration</th>\n",
       "      <th>Total_Stops</th>\n",
       "      <th>Additional_Info</th>\n",
       "      <th>Price</th>\n",
       "    </tr>\n",
       "  </thead>\n",
       "  <tbody>\n",
       "    <tr>\n",
       "      <th>0</th>\n",
       "      <td>IndiGo</td>\n",
       "      <td>24/03/2019</td>\n",
       "      <td>Banglore</td>\n",
       "      <td>New Delhi</td>\n",
       "      <td>BLR → DEL</td>\n",
       "      <td>22:20</td>\n",
       "      <td>01:10 22 Mar</td>\n",
       "      <td>2h 50m</td>\n",
       "      <td>non-stop</td>\n",
       "      <td>No info</td>\n",
       "      <td>3897</td>\n",
       "    </tr>\n",
       "    <tr>\n",
       "      <th>1</th>\n",
       "      <td>Air India</td>\n",
       "      <td>1/05/2019</td>\n",
       "      <td>Kolkata</td>\n",
       "      <td>Banglore</td>\n",
       "      <td>CCU → IXR → BBI → BLR</td>\n",
       "      <td>05:50</td>\n",
       "      <td>13:15</td>\n",
       "      <td>7h 25m</td>\n",
       "      <td>2 stops</td>\n",
       "      <td>No info</td>\n",
       "      <td>7662</td>\n",
       "    </tr>\n",
       "    <tr>\n",
       "      <th>2</th>\n",
       "      <td>Jet Airways</td>\n",
       "      <td>9/06/2019</td>\n",
       "      <td>Delhi</td>\n",
       "      <td>Cochin</td>\n",
       "      <td>DEL → LKO → BOM → COK</td>\n",
       "      <td>09:25</td>\n",
       "      <td>04:25 10 Jun</td>\n",
       "      <td>19h</td>\n",
       "      <td>2 stops</td>\n",
       "      <td>No info</td>\n",
       "      <td>13882</td>\n",
       "    </tr>\n",
       "    <tr>\n",
       "      <th>3</th>\n",
       "      <td>IndiGo</td>\n",
       "      <td>12/05/2019</td>\n",
       "      <td>Kolkata</td>\n",
       "      <td>Banglore</td>\n",
       "      <td>CCU → NAG → BLR</td>\n",
       "      <td>18:05</td>\n",
       "      <td>23:30</td>\n",
       "      <td>5h 25m</td>\n",
       "      <td>1 stop</td>\n",
       "      <td>No info</td>\n",
       "      <td>6218</td>\n",
       "    </tr>\n",
       "    <tr>\n",
       "      <th>4</th>\n",
       "      <td>IndiGo</td>\n",
       "      <td>01/03/2019</td>\n",
       "      <td>Banglore</td>\n",
       "      <td>New Delhi</td>\n",
       "      <td>BLR → NAG → DEL</td>\n",
       "      <td>16:50</td>\n",
       "      <td>21:35</td>\n",
       "      <td>4h 45m</td>\n",
       "      <td>1 stop</td>\n",
       "      <td>No info</td>\n",
       "      <td>13302</td>\n",
       "    </tr>\n",
       "  </tbody>\n",
       "</table>\n",
       "</div>"
      ],
      "text/plain": [
       "       Airline Date_of_Journey    Source Destination                  Route  \\\n",
       "0       IndiGo      24/03/2019  Banglore   New Delhi              BLR → DEL   \n",
       "1    Air India       1/05/2019   Kolkata    Banglore  CCU → IXR → BBI → BLR   \n",
       "2  Jet Airways       9/06/2019     Delhi      Cochin  DEL → LKO → BOM → COK   \n",
       "3       IndiGo      12/05/2019   Kolkata    Banglore        CCU → NAG → BLR   \n",
       "4       IndiGo      01/03/2019  Banglore   New Delhi        BLR → NAG → DEL   \n",
       "\n",
       "  Dep_Time  Arrival_Time Duration Total_Stops Additional_Info  Price  \n",
       "0    22:20  01:10 22 Mar   2h 50m    non-stop         No info   3897  \n",
       "1    05:50         13:15   7h 25m     2 stops         No info   7662  \n",
       "2    09:25  04:25 10 Jun      19h     2 stops         No info  13882  \n",
       "3    18:05         23:30   5h 25m      1 stop         No info   6218  \n",
       "4    16:50         21:35   4h 45m      1 stop         No info  13302  "
      ]
     },
     "execution_count": 10,
     "metadata": {},
     "output_type": "execute_result"
    }
   ],
   "source": [
    "df.head()"
   ]
  },
  {
   "cell_type": "code",
   "execution_count": 11,
   "id": "d489643d-c819-4c22-985d-1ec4ec712798",
   "metadata": {
    "tags": []
   },
   "outputs": [
    {
     "name": "stdout",
     "output_type": "stream",
     "text": [
      "    Duration       Date  Pulse  Maxpulse  Calories\n",
      "0       60.0 2020-12-01    110       130     409.1\n",
      "1       60.0 2020-12-02    117       145     479.0\n",
      "2       60.0 2020-12-03    103       135     340.0\n",
      "3       45.0 2020-12-04    109       175     282.4\n",
      "4       45.0 2020-12-05    117       148     406.0\n",
      "5       60.0 2020-12-06    102       127     300.0\n",
      "6       60.0 2020-12-07    110       136     374.0\n",
      "7      450.0 2020-12-08    104       134     253.3\n",
      "8       30.0 2020-12-09    109       133     195.1\n",
      "9       60.0 2020-12-10     98       124     269.0\n",
      "10      60.0 2020-12-11    103       147     329.3\n",
      "11      60.0 2020-12-12    100       120     250.7\n",
      "12      60.0 2020-12-12    100       120     250.7\n",
      "13      60.0 2020-12-13    106       128     345.3\n",
      "14      60.0 2020-12-14    104       132     379.3\n",
      "15      60.0 2020-12-15     98       123     275.0\n",
      "16      60.0 2020-12-16     98       120     215.2\n",
      "17      45.0 2020-12-17    100       120     300.0\n",
      "18      60.0 2020-12-18     90       112       NaN\n",
      "19      45.0 2020-12-19    103       123     323.0\n",
      "20      60.0 2020-12-20     97       125     243.0\n",
      "21      45.0 2020-12-21    108       131     364.2\n",
      "22      60.0        NaT    100       119     282.0\n",
      "23       NaN 2020-12-23    130       101     300.0\n",
      "24      60.0 2020-12-24    105       132     246.0\n",
      "25      45.0 2020-12-25    102       126     334.5\n",
      "26      60.0 2020-12-26    100       120     250.0\n",
      "27      60.0 2020-12-27     92       118     241.0\n",
      "28      60.0 2020-12-28    103       132       NaN\n",
      "29      60.0 2020-12-29    100       132     280.0\n",
      "30      60.0 2020-12-30    102       129     380.3\n",
      "31      60.0 2020-12-31     92       115     243.0\n"
     ]
    }
   ],
   "source": [
    "# Data Cleaning\n",
    "\n",
    "#Bad data could be:\n",
    "\n",
    "#Empty cells\n",
    "#Data in wrong format\n",
    "#Wrong data\n",
    "#Duplicates\n",
    "\n",
    "data = {'Duration': [60, 60, 60, 45, 45, 60, 60, 450, 30, 60, 60, 60, 60, 60, 60, 60, 60, 45, 60, 45, 60, 45, 60, None, 60, 45, 60, 60, 60, 60, 60, 60],\n",
    "        'Date': ['2020/12/01', '2020/12/02', '2020/12/03', '2020/12/04', '2020/12/05', '2020/12/06', '2020/12/07', '2020/12/08', '2020/12/09', '2020/12/10', '2020/12/11', '2020/12/12', '2020/12/12', '2020/12/13', '2020/12/14', '2020/12/15', '2020/12/16', '2020/12/17', '2020/12/18', '2020/12/19', '2020/12/20', '2020/12/21', None, '2020/12/23', '2020/12/24', '2020/12/25', '2020/12/26', '2020/12/27', '2020/12/28', '2020/12/29', '2020/12/30', '2020/12/31'],\n",
    "        'Pulse': [110, 117, 103, 109, 117, 102, 110, 104, 109, 98, 103, 100, 100, 106, 104, 98, 98, 100, 90, 103, 97, 108, 100, 130, 105, 102, 100, 92, 103, 100, 102, 92],\n",
    "        'Maxpulse': [130, 145, 135, 175, 148, 127, 136, 134, 133, 124, 147, 120, 120, 128, 132, 123, 120, 120, 112, 123, 125, 131, 119, 101, 132, 126, 120, 118, 132, 132, 129, 115],\n",
    "        'Calories': [409.1, 479.0, 340.0, 282.4, 406.0, 300.0, 374.0, 253.3, 195.1, 269.0, 329.3, 250.7, 250.7, 345.3, 379.3, 275.0, 215.2, 300.0, None, 323.0, 243.0, 364.2, 282.0, 300.0, 246.0, 334.5, 250.0, 241.0, None, 280.0, 380.3, 243.0]}\n",
    "\n",
    "df = pd.DataFrame(data)\n",
    "df_c = df.copy()\n",
    "df['Date'] = pd.to_datetime(df['Date'], errors='coerce')\n",
    "\n",
    "# Display the resulting DataFrame\n",
    "print(df)"
   ]
  },
  {
   "cell_type": "code",
   "execution_count": 12,
   "id": "a9d14878-2853-40de-8d92-b162b9c1491d",
   "metadata": {
    "tags": []
   },
   "outputs": [
    {
     "name": "stdout",
     "output_type": "stream",
     "text": [
      "    Duration       Date  Pulse  Maxpulse  Calories\n",
      "0       60.0 2020-12-01    110       130     409.1\n",
      "1       60.0 2020-12-02    117       145     479.0\n",
      "2       60.0 2020-12-03    103       135     340.0\n",
      "3       45.0 2020-12-04    109       175     282.4\n",
      "4       45.0 2020-12-05    117       148     406.0\n",
      "5       60.0 2020-12-06    102       127     300.0\n",
      "6       60.0 2020-12-07    110       136     374.0\n",
      "7      450.0 2020-12-08    104       134     253.3\n",
      "8       30.0 2020-12-09    109       133     195.1\n",
      "9       60.0 2020-12-10     98       124     269.0\n",
      "10      60.0 2020-12-11    103       147     329.3\n",
      "11      60.0 2020-12-12    100       120     250.7\n",
      "12      60.0 2020-12-12    100       120     250.7\n",
      "13      60.0 2020-12-13    106       128     345.3\n",
      "14      60.0 2020-12-14    104       132     379.3\n",
      "15      60.0 2020-12-15     98       123     275.0\n",
      "16      60.0 2020-12-16     98       120     215.2\n",
      "17      45.0 2020-12-17    100       120     300.0\n",
      "19      45.0 2020-12-19    103       123     323.0\n",
      "20      60.0 2020-12-20     97       125     243.0\n",
      "21      45.0 2020-12-21    108       131     364.2\n",
      "24      60.0 2020-12-24    105       132     246.0\n",
      "25      45.0 2020-12-25    102       126     334.5\n",
      "26      60.0 2020-12-26    100       120     250.0\n",
      "27      60.0 2020-12-27     92       118     241.0\n",
      "29      60.0 2020-12-29    100       132     280.0\n",
      "30      60.0 2020-12-30    102       129     380.3\n",
      "31      60.0 2020-12-31     92       115     243.0\n"
     ]
    }
   ],
   "source": [
    "# Pandas - Cleaning Empty Cells\n",
    "new_df = df.dropna() # add the argument inplace = True , if you whant to change the original DataFrame\n",
    "\n",
    "print(new_df.to_string())"
   ]
  },
  {
   "cell_type": "code",
   "execution_count": 13,
   "id": "784bcb08-a2ff-4722-84de-4574b57f9579",
   "metadata": {
    "tags": []
   },
   "outputs": [
    {
     "name": "stdout",
     "output_type": "stream",
     "text": [
      "    Duration                 Date  Pulse  Maxpulse  Calories\n",
      "0       60.0  2020-12-01 00:00:00    110       130     409.1\n",
      "1       60.0  2020-12-02 00:00:00    117       145     479.0\n",
      "2       60.0  2020-12-03 00:00:00    103       135     340.0\n",
      "3       45.0  2020-12-04 00:00:00    109       175     282.4\n",
      "4       45.0  2020-12-05 00:00:00    117       148     406.0\n",
      "5       60.0  2020-12-06 00:00:00    102       127     300.0\n",
      "6       60.0  2020-12-07 00:00:00    110       136     374.0\n",
      "7      450.0  2020-12-08 00:00:00    104       134     253.3\n",
      "8       30.0  2020-12-09 00:00:00    109       133     195.1\n",
      "9       60.0  2020-12-10 00:00:00     98       124     269.0\n",
      "10      60.0  2020-12-11 00:00:00    103       147     329.3\n",
      "11      60.0  2020-12-12 00:00:00    100       120     250.7\n",
      "12      60.0  2020-12-12 00:00:00    100       120     250.7\n",
      "13      60.0  2020-12-13 00:00:00    106       128     345.3\n",
      "14      60.0  2020-12-14 00:00:00    104       132     379.3\n",
      "15      60.0  2020-12-15 00:00:00     98       123     275.0\n",
      "16      60.0  2020-12-16 00:00:00     98       120     215.2\n",
      "17      45.0  2020-12-17 00:00:00    100       120     300.0\n",
      "18      60.0  2020-12-18 00:00:00     90       112     120.0\n",
      "19      45.0  2020-12-19 00:00:00    103       123     323.0\n",
      "20      60.0  2020-12-20 00:00:00     97       125     243.0\n",
      "21      45.0  2020-12-21 00:00:00    108       131     364.2\n",
      "22      60.0                  120    100       119     282.0\n",
      "23     120.0  2020-12-23 00:00:00    130       101     300.0\n",
      "24      60.0  2020-12-24 00:00:00    105       132     246.0\n",
      "25      45.0  2020-12-25 00:00:00    102       126     334.5\n",
      "26      60.0  2020-12-26 00:00:00    100       120     250.0\n",
      "27      60.0  2020-12-27 00:00:00     92       118     241.0\n",
      "28      60.0  2020-12-28 00:00:00    103       132     120.0\n",
      "29      60.0  2020-12-29 00:00:00    100       132     280.0\n",
      "30      60.0  2020-12-30 00:00:00    102       129     380.3\n",
      "31      60.0  2020-12-31 00:00:00     92       115     243.0\n"
     ]
    }
   ],
   "source": [
    "#Replace Empty Values\n",
    "\n",
    "#Replace the empty values with 120 for example \n",
    "\n",
    "df_filled = df.fillna(120 , inplace=False)\n",
    "print(df_filled)"
   ]
  },
  {
   "cell_type": "code",
   "execution_count": 14,
   "id": "0ecab0ea-b2a7-45b6-b499-b99f4084ee69",
   "metadata": {
    "tags": []
   },
   "outputs": [
    {
     "data": {
      "text/html": [
       "<div>\n",
       "<style scoped>\n",
       "    .dataframe tbody tr th:only-of-type {\n",
       "        vertical-align: middle;\n",
       "    }\n",
       "\n",
       "    .dataframe tbody tr th {\n",
       "        vertical-align: top;\n",
       "    }\n",
       "\n",
       "    .dataframe thead th {\n",
       "        text-align: right;\n",
       "    }\n",
       "</style>\n",
       "<table border=\"1\" class=\"dataframe\">\n",
       "  <thead>\n",
       "    <tr style=\"text-align: right;\">\n",
       "      <th></th>\n",
       "      <th>Duration</th>\n",
       "      <th>Date</th>\n",
       "      <th>Pulse</th>\n",
       "      <th>Maxpulse</th>\n",
       "      <th>Calories</th>\n",
       "    </tr>\n",
       "  </thead>\n",
       "  <tbody>\n",
       "    <tr>\n",
       "      <th>0</th>\n",
       "      <td>60.0</td>\n",
       "      <td>2020-12-01</td>\n",
       "      <td>110</td>\n",
       "      <td>130</td>\n",
       "      <td>409.1</td>\n",
       "    </tr>\n",
       "    <tr>\n",
       "      <th>1</th>\n",
       "      <td>60.0</td>\n",
       "      <td>2020-12-02</td>\n",
       "      <td>117</td>\n",
       "      <td>145</td>\n",
       "      <td>479.0</td>\n",
       "    </tr>\n",
       "    <tr>\n",
       "      <th>2</th>\n",
       "      <td>60.0</td>\n",
       "      <td>2020-12-03</td>\n",
       "      <td>103</td>\n",
       "      <td>135</td>\n",
       "      <td>340.0</td>\n",
       "    </tr>\n",
       "    <tr>\n",
       "      <th>3</th>\n",
       "      <td>45.0</td>\n",
       "      <td>2020-12-04</td>\n",
       "      <td>109</td>\n",
       "      <td>175</td>\n",
       "      <td>282.4</td>\n",
       "    </tr>\n",
       "    <tr>\n",
       "      <th>4</th>\n",
       "      <td>45.0</td>\n",
       "      <td>2020-12-05</td>\n",
       "      <td>117</td>\n",
       "      <td>148</td>\n",
       "      <td>406.0</td>\n",
       "    </tr>\n",
       "    <tr>\n",
       "      <th>5</th>\n",
       "      <td>60.0</td>\n",
       "      <td>2020-12-06</td>\n",
       "      <td>102</td>\n",
       "      <td>127</td>\n",
       "      <td>300.0</td>\n",
       "    </tr>\n",
       "    <tr>\n",
       "      <th>6</th>\n",
       "      <td>60.0</td>\n",
       "      <td>2020-12-07</td>\n",
       "      <td>110</td>\n",
       "      <td>136</td>\n",
       "      <td>374.0</td>\n",
       "    </tr>\n",
       "    <tr>\n",
       "      <th>7</th>\n",
       "      <td>450.0</td>\n",
       "      <td>2020-12-08</td>\n",
       "      <td>104</td>\n",
       "      <td>134</td>\n",
       "      <td>253.3</td>\n",
       "    </tr>\n",
       "    <tr>\n",
       "      <th>8</th>\n",
       "      <td>30.0</td>\n",
       "      <td>2020-12-09</td>\n",
       "      <td>109</td>\n",
       "      <td>133</td>\n",
       "      <td>195.1</td>\n",
       "    </tr>\n",
       "    <tr>\n",
       "      <th>9</th>\n",
       "      <td>60.0</td>\n",
       "      <td>2020-12-10</td>\n",
       "      <td>98</td>\n",
       "      <td>124</td>\n",
       "      <td>269.0</td>\n",
       "    </tr>\n",
       "    <tr>\n",
       "      <th>10</th>\n",
       "      <td>60.0</td>\n",
       "      <td>2020-12-11</td>\n",
       "      <td>103</td>\n",
       "      <td>147</td>\n",
       "      <td>329.3</td>\n",
       "    </tr>\n",
       "    <tr>\n",
       "      <th>11</th>\n",
       "      <td>60.0</td>\n",
       "      <td>2020-12-12</td>\n",
       "      <td>100</td>\n",
       "      <td>120</td>\n",
       "      <td>250.7</td>\n",
       "    </tr>\n",
       "    <tr>\n",
       "      <th>12</th>\n",
       "      <td>60.0</td>\n",
       "      <td>2020-12-12</td>\n",
       "      <td>100</td>\n",
       "      <td>120</td>\n",
       "      <td>250.7</td>\n",
       "    </tr>\n",
       "    <tr>\n",
       "      <th>13</th>\n",
       "      <td>60.0</td>\n",
       "      <td>2020-12-13</td>\n",
       "      <td>106</td>\n",
       "      <td>128</td>\n",
       "      <td>345.3</td>\n",
       "    </tr>\n",
       "    <tr>\n",
       "      <th>14</th>\n",
       "      <td>60.0</td>\n",
       "      <td>2020-12-14</td>\n",
       "      <td>104</td>\n",
       "      <td>132</td>\n",
       "      <td>379.3</td>\n",
       "    </tr>\n",
       "    <tr>\n",
       "      <th>15</th>\n",
       "      <td>60.0</td>\n",
       "      <td>2020-12-15</td>\n",
       "      <td>98</td>\n",
       "      <td>123</td>\n",
       "      <td>275.0</td>\n",
       "    </tr>\n",
       "    <tr>\n",
       "      <th>16</th>\n",
       "      <td>60.0</td>\n",
       "      <td>2020-12-16</td>\n",
       "      <td>98</td>\n",
       "      <td>120</td>\n",
       "      <td>215.2</td>\n",
       "    </tr>\n",
       "    <tr>\n",
       "      <th>17</th>\n",
       "      <td>45.0</td>\n",
       "      <td>2020-12-17</td>\n",
       "      <td>100</td>\n",
       "      <td>120</td>\n",
       "      <td>300.0</td>\n",
       "    </tr>\n",
       "    <tr>\n",
       "      <th>18</th>\n",
       "      <td>60.0</td>\n",
       "      <td>2020-12-18</td>\n",
       "      <td>90</td>\n",
       "      <td>112</td>\n",
       "      <td>NaN</td>\n",
       "    </tr>\n",
       "    <tr>\n",
       "      <th>19</th>\n",
       "      <td>45.0</td>\n",
       "      <td>2020-12-19</td>\n",
       "      <td>103</td>\n",
       "      <td>123</td>\n",
       "      <td>323.0</td>\n",
       "    </tr>\n",
       "    <tr>\n",
       "      <th>20</th>\n",
       "      <td>60.0</td>\n",
       "      <td>2020-12-20</td>\n",
       "      <td>97</td>\n",
       "      <td>125</td>\n",
       "      <td>243.0</td>\n",
       "    </tr>\n",
       "    <tr>\n",
       "      <th>21</th>\n",
       "      <td>45.0</td>\n",
       "      <td>2020-12-21</td>\n",
       "      <td>108</td>\n",
       "      <td>131</td>\n",
       "      <td>364.2</td>\n",
       "    </tr>\n",
       "    <tr>\n",
       "      <th>22</th>\n",
       "      <td>60.0</td>\n",
       "      <td>NaT</td>\n",
       "      <td>100</td>\n",
       "      <td>119</td>\n",
       "      <td>282.0</td>\n",
       "    </tr>\n",
       "    <tr>\n",
       "      <th>23</th>\n",
       "      <td>NaN</td>\n",
       "      <td>2020-12-23</td>\n",
       "      <td>130</td>\n",
       "      <td>101</td>\n",
       "      <td>300.0</td>\n",
       "    </tr>\n",
       "    <tr>\n",
       "      <th>24</th>\n",
       "      <td>60.0</td>\n",
       "      <td>2020-12-24</td>\n",
       "      <td>105</td>\n",
       "      <td>132</td>\n",
       "      <td>246.0</td>\n",
       "    </tr>\n",
       "    <tr>\n",
       "      <th>25</th>\n",
       "      <td>45.0</td>\n",
       "      <td>2020-12-25</td>\n",
       "      <td>102</td>\n",
       "      <td>126</td>\n",
       "      <td>334.5</td>\n",
       "    </tr>\n",
       "    <tr>\n",
       "      <th>26</th>\n",
       "      <td>60.0</td>\n",
       "      <td>2020-12-26</td>\n",
       "      <td>100</td>\n",
       "      <td>120</td>\n",
       "      <td>250.0</td>\n",
       "    </tr>\n",
       "    <tr>\n",
       "      <th>27</th>\n",
       "      <td>60.0</td>\n",
       "      <td>2020-12-27</td>\n",
       "      <td>92</td>\n",
       "      <td>118</td>\n",
       "      <td>241.0</td>\n",
       "    </tr>\n",
       "    <tr>\n",
       "      <th>28</th>\n",
       "      <td>60.0</td>\n",
       "      <td>2020-12-28</td>\n",
       "      <td>103</td>\n",
       "      <td>132</td>\n",
       "      <td>NaN</td>\n",
       "    </tr>\n",
       "    <tr>\n",
       "      <th>29</th>\n",
       "      <td>60.0</td>\n",
       "      <td>2020-12-29</td>\n",
       "      <td>100</td>\n",
       "      <td>132</td>\n",
       "      <td>280.0</td>\n",
       "    </tr>\n",
       "    <tr>\n",
       "      <th>30</th>\n",
       "      <td>60.0</td>\n",
       "      <td>2020-12-30</td>\n",
       "      <td>102</td>\n",
       "      <td>129</td>\n",
       "      <td>380.3</td>\n",
       "    </tr>\n",
       "    <tr>\n",
       "      <th>31</th>\n",
       "      <td>60.0</td>\n",
       "      <td>2020-12-31</td>\n",
       "      <td>92</td>\n",
       "      <td>115</td>\n",
       "      <td>243.0</td>\n",
       "    </tr>\n",
       "  </tbody>\n",
       "</table>\n",
       "</div>"
      ],
      "text/plain": [
       "    Duration       Date  Pulse  Maxpulse  Calories\n",
       "0       60.0 2020-12-01    110       130     409.1\n",
       "1       60.0 2020-12-02    117       145     479.0\n",
       "2       60.0 2020-12-03    103       135     340.0\n",
       "3       45.0 2020-12-04    109       175     282.4\n",
       "4       45.0 2020-12-05    117       148     406.0\n",
       "5       60.0 2020-12-06    102       127     300.0\n",
       "6       60.0 2020-12-07    110       136     374.0\n",
       "7      450.0 2020-12-08    104       134     253.3\n",
       "8       30.0 2020-12-09    109       133     195.1\n",
       "9       60.0 2020-12-10     98       124     269.0\n",
       "10      60.0 2020-12-11    103       147     329.3\n",
       "11      60.0 2020-12-12    100       120     250.7\n",
       "12      60.0 2020-12-12    100       120     250.7\n",
       "13      60.0 2020-12-13    106       128     345.3\n",
       "14      60.0 2020-12-14    104       132     379.3\n",
       "15      60.0 2020-12-15     98       123     275.0\n",
       "16      60.0 2020-12-16     98       120     215.2\n",
       "17      45.0 2020-12-17    100       120     300.0\n",
       "18      60.0 2020-12-18     90       112       NaN\n",
       "19      45.0 2020-12-19    103       123     323.0\n",
       "20      60.0 2020-12-20     97       125     243.0\n",
       "21      45.0 2020-12-21    108       131     364.2\n",
       "22      60.0        NaT    100       119     282.0\n",
       "23       NaN 2020-12-23    130       101     300.0\n",
       "24      60.0 2020-12-24    105       132     246.0\n",
       "25      45.0 2020-12-25    102       126     334.5\n",
       "26      60.0 2020-12-26    100       120     250.0\n",
       "27      60.0 2020-12-27     92       118     241.0\n",
       "28      60.0 2020-12-28    103       132       NaN\n",
       "29      60.0 2020-12-29    100       132     280.0\n",
       "30      60.0 2020-12-30    102       129     380.3\n",
       "31      60.0 2020-12-31     92       115     243.0"
      ]
     },
     "execution_count": 14,
     "metadata": {},
     "output_type": "execute_result"
    }
   ],
   "source": [
    "df"
   ]
  },
  {
   "cell_type": "code",
   "execution_count": 15,
   "id": "ac8590f7-93b2-41b5-b0cd-b094cafd09fa",
   "metadata": {
    "tags": []
   },
   "outputs": [],
   "source": [
    "# Replace Using Mean, Median, or Mode\n",
    "\n",
    "mean = df_c[\"Calories\"].mean() #use mean , or median as an alternative\n",
    "\n",
    "df_c[\"Calories\"].fillna(mean , inplace=True)"
   ]
  },
  {
   "cell_type": "code",
   "execution_count": 19,
   "id": "e81fc7b0-7b26-466f-af38-a800c0f50996",
   "metadata": {
    "tags": []
   },
   "outputs": [
    {
     "data": {
      "text/html": [
       "<div>\n",
       "<style scoped>\n",
       "    .dataframe tbody tr th:only-of-type {\n",
       "        vertical-align: middle;\n",
       "    }\n",
       "\n",
       "    .dataframe tbody tr th {\n",
       "        vertical-align: top;\n",
       "    }\n",
       "\n",
       "    .dataframe thead th {\n",
       "        text-align: right;\n",
       "    }\n",
       "</style>\n",
       "<table border=\"1\" class=\"dataframe\">\n",
       "  <thead>\n",
       "    <tr style=\"text-align: right;\">\n",
       "      <th></th>\n",
       "      <th>Duration</th>\n",
       "      <th>Date</th>\n",
       "      <th>Pulse</th>\n",
       "      <th>Maxpulse</th>\n",
       "      <th>Calories</th>\n",
       "    </tr>\n",
       "  </thead>\n",
       "  <tbody>\n",
       "    <tr>\n",
       "      <th>0</th>\n",
       "      <td>60.0</td>\n",
       "      <td>2020/12/01</td>\n",
       "      <td>110</td>\n",
       "      <td>130</td>\n",
       "      <td>409.1</td>\n",
       "    </tr>\n",
       "    <tr>\n",
       "      <th>1</th>\n",
       "      <td>60.0</td>\n",
       "      <td>2020/12/02</td>\n",
       "      <td>117</td>\n",
       "      <td>145</td>\n",
       "      <td>479.0</td>\n",
       "    </tr>\n",
       "    <tr>\n",
       "      <th>2</th>\n",
       "      <td>60.0</td>\n",
       "      <td>2020/12/03</td>\n",
       "      <td>103</td>\n",
       "      <td>135</td>\n",
       "      <td>340.0</td>\n",
       "    </tr>\n",
       "    <tr>\n",
       "      <th>3</th>\n",
       "      <td>45.0</td>\n",
       "      <td>2020/12/04</td>\n",
       "      <td>109</td>\n",
       "      <td>175</td>\n",
       "      <td>282.4</td>\n",
       "    </tr>\n",
       "    <tr>\n",
       "      <th>4</th>\n",
       "      <td>45.0</td>\n",
       "      <td>2020/12/05</td>\n",
       "      <td>117</td>\n",
       "      <td>148</td>\n",
       "      <td>406.0</td>\n",
       "    </tr>\n",
       "  </tbody>\n",
       "</table>\n",
       "</div>"
      ],
      "text/plain": [
       "   Duration        Date  Pulse  Maxpulse  Calories\n",
       "0      60.0  2020/12/01    110       130     409.1\n",
       "1      60.0  2020/12/02    117       145     479.0\n",
       "2      60.0  2020/12/03    103       135     340.0\n",
       "3      45.0  2020/12/04    109       175     282.4\n",
       "4      45.0  2020/12/05    117       148     406.0"
      ]
     },
     "execution_count": 19,
     "metadata": {},
     "output_type": "execute_result"
    }
   ],
   "source": [
    "df_c.head()"
   ]
  },
  {
   "cell_type": "code",
   "execution_count": 18,
   "id": "5d2388d7-a8b5-4f3e-aef1-f2eb8f53dead",
   "metadata": {
    "tags": []
   },
   "outputs": [
    {
     "data": {
      "text/html": [
       "<div>\n",
       "<style scoped>\n",
       "    .dataframe tbody tr th:only-of-type {\n",
       "        vertical-align: middle;\n",
       "    }\n",
       "\n",
       "    .dataframe tbody tr th {\n",
       "        vertical-align: top;\n",
       "    }\n",
       "\n",
       "    .dataframe thead th {\n",
       "        text-align: right;\n",
       "    }\n",
       "</style>\n",
       "<table border=\"1\" class=\"dataframe\">\n",
       "  <thead>\n",
       "    <tr style=\"text-align: right;\">\n",
       "      <th></th>\n",
       "      <th>Duration</th>\n",
       "      <th>Date</th>\n",
       "      <th>Pulse</th>\n",
       "      <th>Maxpulse</th>\n",
       "      <th>Calories</th>\n",
       "    </tr>\n",
       "  </thead>\n",
       "  <tbody>\n",
       "    <tr>\n",
       "      <th>0</th>\n",
       "      <td>60.0</td>\n",
       "      <td>2020/12/01</td>\n",
       "      <td>110</td>\n",
       "      <td>130</td>\n",
       "      <td>409.1</td>\n",
       "    </tr>\n",
       "    <tr>\n",
       "      <th>1</th>\n",
       "      <td>60.0</td>\n",
       "      <td>2020/12/02</td>\n",
       "      <td>117</td>\n",
       "      <td>145</td>\n",
       "      <td>479.0</td>\n",
       "    </tr>\n",
       "    <tr>\n",
       "      <th>2</th>\n",
       "      <td>60.0</td>\n",
       "      <td>2020/12/03</td>\n",
       "      <td>103</td>\n",
       "      <td>135</td>\n",
       "      <td>340.0</td>\n",
       "    </tr>\n",
       "    <tr>\n",
       "      <th>3</th>\n",
       "      <td>45.0</td>\n",
       "      <td>2020/12/04</td>\n",
       "      <td>109</td>\n",
       "      <td>175</td>\n",
       "      <td>282.4</td>\n",
       "    </tr>\n",
       "    <tr>\n",
       "      <th>4</th>\n",
       "      <td>45.0</td>\n",
       "      <td>2020/12/05</td>\n",
       "      <td>117</td>\n",
       "      <td>148</td>\n",
       "      <td>406.0</td>\n",
       "    </tr>\n",
       "  </tbody>\n",
       "</table>\n",
       "</div>"
      ],
      "text/plain": [
       "   Duration        Date  Pulse  Maxpulse  Calories\n",
       "0      60.0  2020/12/01    110       130     409.1\n",
       "1      60.0  2020/12/02    117       145     479.0\n",
       "2      60.0  2020/12/03    103       135     340.0\n",
       "3      45.0  2020/12/04    109       175     282.4\n",
       "4      45.0  2020/12/05    117       148     406.0"
      ]
     },
     "execution_count": 18,
     "metadata": {},
     "output_type": "execute_result"
    }
   ],
   "source": [
    "#Replacin by the mode ( the most frequent feature value in dataset )\n",
    "\n",
    "mode = df_c[\"Calories\"].mode()[0]\n",
    "\n",
    "df_c[\"Calories\"].fillna(mode, inplace=True)\n",
    "df_c.head()"
   ]
  },
  {
   "cell_type": "code",
   "execution_count": 28,
   "id": "7a9d2989-d6ed-44cd-8c29-659399846a87",
   "metadata": {
    "tags": []
   },
   "outputs": [
    {
     "name": "stdout",
     "output_type": "stream",
     "text": [
      "float64           2\n",
      "int64             2\n",
      "datetime64[ns]    1\n",
      "Name: count, dtype: int64\n",
      "Date type: datetime64[ns]\n"
     ]
    }
   ],
   "source": [
    "#Data of Wrong Format\n",
    "\n",
    "print(df.dtypes.value_counts())\n",
    "\n",
    "#Convert INTO date data type \n",
    "\n",
    "df[\"Date\"] = pd.to_datetime(df[\"Date\"])\n",
    "print(\"Date type:\",df[\"Date\"].dtype)"
   ]
  },
  {
   "cell_type": "code",
   "execution_count": 29,
   "id": "1c9b437d-e2e4-4085-a022-701abf7eaa78",
   "metadata": {
    "tags": []
   },
   "outputs": [],
   "source": [
    "#Removing Rows\n",
    "\n",
    "df.dropna(subset=[\"Date\"] , inplace=True)"
   ]
  },
  {
   "cell_type": "code",
   "execution_count": 31,
   "id": "b11dfce0-318c-47ac-9eb9-abbe51a443c0",
   "metadata": {
    "tags": []
   },
   "outputs": [],
   "source": [
    "# Fixing Wrong Data\n",
    "\n",
    "# Replacing Values\n",
    "\n",
    "df.loc[7,'Duration'] = 45"
   ]
  },
  {
   "cell_type": "code",
   "execution_count": 32,
   "id": "c297fed7-e10e-4d9d-9b80-12381b3c57b2",
   "metadata": {},
   "outputs": [],
   "source": [
    "#Loop through all values in the \"Duration\" column.\n",
    "for x in df.index:\n",
    "    if df.loc[x, \"Duration\"] > 120:\n",
    "        df.loc[x, \"Duration\"] = 120"
   ]
  },
  {
   "cell_type": "code",
   "execution_count": 34,
   "id": "1a0dabc9-46a2-4e74-896d-8f97ff175b25",
   "metadata": {},
   "outputs": [],
   "source": [
    "# Delete rows where \"Duration\" is higher than 120:\n",
    "for x in df.index:\n",
    "    if df.loc[x, \"Duration\"] > 120:\n",
    "        df.drop(x, inplace = True)"
   ]
  },
  {
   "cell_type": "code",
   "execution_count": 41,
   "id": "44f8bc54-e8d0-48c3-9d29-dc572fa60531",
   "metadata": {},
   "outputs": [
    {
     "name": "stdout",
     "output_type": "stream",
     "text": [
      "show number of duplicated rows : False    30\n",
      "True      1\n",
      "Name: count, dtype: int64\n",
      "Remove duplicated rows : None\n"
     ]
    }
   ],
   "source": [
    "# Removing Duplicates\n",
    "print(\"show number of duplicated rows :\" , df.duplicated().value_counts())\n",
    "print(\"Remove duplicated rows :\", df.drop_duplicates(inplace=True))"
   ]
  },
  {
   "cell_type": "code",
   "execution_count": 43,
   "id": "9db04829-dfdb-4412-b4e1-77019ca63859",
   "metadata": {},
   "outputs": [
    {
     "data": {
      "text/html": [
       "<div>\n",
       "<style scoped>\n",
       "    .dataframe tbody tr th:only-of-type {\n",
       "        vertical-align: middle;\n",
       "    }\n",
       "\n",
       "    .dataframe tbody tr th {\n",
       "        vertical-align: top;\n",
       "    }\n",
       "\n",
       "    .dataframe thead th {\n",
       "        text-align: right;\n",
       "    }\n",
       "</style>\n",
       "<table border=\"1\" class=\"dataframe\">\n",
       "  <thead>\n",
       "    <tr style=\"text-align: right;\">\n",
       "      <th></th>\n",
       "      <th>Duration</th>\n",
       "      <th>Date</th>\n",
       "      <th>Pulse</th>\n",
       "      <th>Maxpulse</th>\n",
       "      <th>Calories</th>\n",
       "    </tr>\n",
       "  </thead>\n",
       "  <tbody>\n",
       "    <tr>\n",
       "      <th>Duration</th>\n",
       "      <td>1.000000</td>\n",
       "      <td>0.164007</td>\n",
       "      <td>-0.364034</td>\n",
       "      <td>-0.280534</td>\n",
       "      <td>0.116739</td>\n",
       "    </tr>\n",
       "    <tr>\n",
       "      <th>Date</th>\n",
       "      <td>0.164007</td>\n",
       "      <td>1.000000</td>\n",
       "      <td>-0.369328</td>\n",
       "      <td>-0.517827</td>\n",
       "      <td>-0.368101</td>\n",
       "    </tr>\n",
       "    <tr>\n",
       "      <th>Pulse</th>\n",
       "      <td>-0.364034</td>\n",
       "      <td>-0.369328</td>\n",
       "      <td>1.000000</td>\n",
       "      <td>0.261426</td>\n",
       "      <td>0.503243</td>\n",
       "    </tr>\n",
       "    <tr>\n",
       "      <th>Maxpulse</th>\n",
       "      <td>-0.280534</td>\n",
       "      <td>-0.517827</td>\n",
       "      <td>0.261426</td>\n",
       "      <td>1.000000</td>\n",
       "      <td>0.338515</td>\n",
       "    </tr>\n",
       "    <tr>\n",
       "      <th>Calories</th>\n",
       "      <td>0.116739</td>\n",
       "      <td>-0.368101</td>\n",
       "      <td>0.503243</td>\n",
       "      <td>0.338515</td>\n",
       "      <td>1.000000</td>\n",
       "    </tr>\n",
       "  </tbody>\n",
       "</table>\n",
       "</div>"
      ],
      "text/plain": [
       "          Duration      Date     Pulse  Maxpulse  Calories\n",
       "Duration  1.000000  0.164007 -0.364034 -0.280534  0.116739\n",
       "Date      0.164007  1.000000 -0.369328 -0.517827 -0.368101\n",
       "Pulse    -0.364034 -0.369328  1.000000  0.261426  0.503243\n",
       "Maxpulse -0.280534 -0.517827  0.261426  1.000000  0.338515\n",
       "Calories  0.116739 -0.368101  0.503243  0.338515  1.000000"
      ]
     },
     "execution_count": 43,
     "metadata": {},
     "output_type": "execute_result"
    }
   ],
   "source": [
    "# Pandas - Data Correlations\n",
    "\n",
    "# Finding Relationships\n",
    "df.corr()"
   ]
  },
  {
   "cell_type": "markdown",
   "id": "79e2ded5-ea57-44bc-9c6a-711471f06368",
   "metadata": {},
   "source": [
    "The number varies from -1 to 1.\n",
    "\n",
    "1 means that there is a 1 to 1 relationship (a perfect correlation), and for this data set, each time a value went up in the first column, the other one went up as well.\n",
    "\n",
    "0.9 is also a good relationship, and if you increase one value, the other will probably increase as well.\n",
    "\n",
    "-0.9 would be just as good relationship as 0.9, but if you increase one value, the other will probably go down.\n",
    "\n",
    "0.2 means NOT a good relationship, meaning that if one value goes up does not mean that the other will.\n",
    "\n"
   ]
  },
  {
   "cell_type": "code",
   "execution_count": 55,
   "id": "cf1e0994-0fb6-439b-9cc4-0b58ecfeea3a",
   "metadata": {},
   "outputs": [
    {
     "data": {
      "image/png": "[encoded data removed]",
      "text/plain": [
       "<Figure size 640x480 with 1 Axes>"
      ]
     },
     "metadata": {},
     "output_type": "display_data"
    }
   ],
   "source": [
    "#Pandas - Plotting\n",
    "\n",
    "\n",
    "#Plotting\n",
    "\n",
    "import matplotlib.pyplot as plt\n",
    "\n",
    "new_df = pd.read_csv(\"Datasets/data.csv\")\n",
    "\n",
    "new_df.plot()\n",
    "\n",
    "plt.show()"
   ]
  },
  {
   "cell_type": "code",
   "execution_count": 58,
   "id": "93de0bb1-5f65-4ee5-aa4d-b36c7b5472fe",
   "metadata": {
    "tags": []
   },
   "outputs": [
    {
     "data": {
      "image/png": "[encoded data removed]",
      "text/plain": [
       "<Figure size 640x480 with 1 Axes>"
      ]
     },
     "metadata": {},
     "output_type": "display_data"
    }
   ],
   "source": [
    "#Scatter Plot\n",
    "df = pd.read_csv('Datasets/data.csv')\n",
    "\n",
    "df.plot(kind = 'scatter', x = 'Duration', y = 'Calories')\n",
    "\n",
    "plt.show()"
   ]
  },
  {
   "cell_type": "markdown",
   "id": "d7a728b0-58f3-4920-9e78-1fe0b027f030",
   "metadata": {},
   "source": [
    "**Remember:** In the previous example, we learned that the correlation between \"Duration\" and \"Calories\" was 0.922721, and we concluded with the fact that higher duration means more calories burned.\n",
    "\n",
    "By looking at the scatterplot, I will agree."
   ]
  },
  {
   "cell_type": "code",
   "execution_count": 59,
   "id": "30c7c1ba-8ddf-4034-8c9d-7eba9299795e",
   "metadata": {
    "tags": []
   },
   "outputs": [
    {
     "data": {
      "image/png": "[encoded data removed]",
      "text/plain": [
       "<Figure size 640x480 with 1 Axes>"
      ]
     },
     "metadata": {},
     "output_type": "display_data"
    }
   ],
   "source": [
    "import pandas as pd\n",
    "import matplotlib.pyplot as plt\n",
    "\n",
    "df = pd.read_csv('Datasets/data.csv')\n",
    "\n",
    "df.plot(kind = 'scatter', x = 'Duration', y = 'Maxpulse')\n",
    "\n",
    "plt.show()\n"
   ]
  },
  {
   "cell_type": "markdown",
   "id": "9f806ed9-3652-42e6-a485-41165a399cef",
   "metadata": {},
   "source": [
    "Let's create another scatterplot, where there is a bad relationship between the columns, like \"Duration\" and \"Maxpulse\", with the correlation 0.009403:"
   ]
  },
  {
   "cell_type": "code",
   "execution_count": 60,
   "id": "63713d76-5de4-48a7-a622-c75913734342",
   "metadata": {
    "tags": []
   },
   "outputs": [
    {
     "data": {
      "text/plain": [
       "<Axes: ylabel='Frequency'>"
      ]
     },
     "execution_count": 60,
     "metadata": {},
     "output_type": "execute_result"
    },
    {
     "data": {
      "image/png": "[encoded data removed]",
      "text/plain": [
       "<Figure size 640x480 with 1 Axes>"
      ]
     },
     "metadata": {},
     "output_type": "display_data"
    }
   ],
   "source": [
    "#Histogram\n",
    "\n",
    "df[\"Duration\"].plot(kind = 'hist')"
   ]
  },
  {
   "cell_type": "code",
   "execution_count": null,
   "id": "33309410-e879-4af1-81df-ab5862fec897",
   "metadata": {},
   "outputs": [],
   "source": []
  },
  {
   "cell_type": "code",
   "execution_count": null,
   "id": "1e306836-6f0b-4136-ad70-272f57aaf148",
   "metadata": {},
   "outputs": [],
   "source": []
  },
  {
   "cell_type": "code",
   "execution_count": null,
   "id": "bc9c7a49-0c45-4d14-8137-e271fbaab135",
   "metadata": {},
   "outputs": [],
   "source": []
  },
  {
   "cell_type": "code",
   "execution_count": null,
   "id": "63bbe5de-0a67-4077-9210-18bb1444173b",
   "metadata": {},
   "outputs": [],
   "source": []
  },
  {
   "cell_type": "code",
   "execution_count": null,
   "id": "bb91e447-c6b7-46e6-8f48-33aa719931fb",
   "metadata": {},
   "outputs": [],
   "source": []
  },
  {
   "cell_type": "code",
   "execution_count": null,
   "id": "dd5e2822-fdfa-45da-b0bc-728ba24571a8",
   "metadata": {},
   "outputs": [],
   "source": []
  }
 ],
 "metadata": {
  "kernelspec": {
   "display_name": "Python 3 (ipykernel)",
   "language": "python",
   "name": "python3"
  },
  "language_info": {
   "codemirror_mode": {
    "name": "ipython",
    "version": 3
   },
   "file_extension": ".py",
   "mimetype": "text/x-python",
   "name": "python",
   "nbconvert_exporter": "python",
   "pygments_lexer": "ipython3",
   "version": "3.11.5"
  }
 },
 "nbformat": 4,
 "nbformat_minor": 5
}
