{
 "cells": [
  {
   "cell_type": "markdown",
   "id": "e09de354-6146-44a0-aeb6-59e059616453",
   "metadata": {},
   "source": [
    "# Numpy Librerie"
   ]
  },
  {
   "cell_type": "markdown",
   "id": "328d1d64-c9f3-439c-bd19-91de5eebe9b5",
   "metadata": {
    "tags": []
   },
   "source": [
    "[- Numpy Documentation](https://numpy.org/doc/stable/user/quickstart.html)\n"
   ]
  },
  {
   "cell_type": "markdown",
   "id": "2d8e28db-d401-49c5-b929-fb13c9a3dec0",
   "metadata": {},
   "source": [
    "[- W3school Documentation](https://www.w3schools.com/python/numpy/numpy_array_slicing.asp)"
   ]
  },
  {
   "cell_type": "code",
   "execution_count": 3,
   "id": "c437b85f-7b1b-4c8e-b900-68264cdc772b",
   "metadata": {
    "tags": []
   },
   "outputs": [],
   "source": [
    "import numpy as np \n",
    "import warnings\n",
    "warnings.filterwarnings('ignore')\n"
   ]
  },
  {
   "cell_type": "code",
   "execution_count": 2,
   "id": "cb8fdbc2-af87-435e-8007-4fc03a3ec722",
   "metadata": {},
   "outputs": [
    {
     "data": {
      "text/plain": [
       "array([1, 2, 4, 5, 5, 6])"
      ]
     },
     "execution_count": 2,
     "metadata": {},
     "output_type": "execute_result"
    }
   ],
   "source": [
    "\n",
    "#create a narray by using numpy array \n",
    "arr = np.array([1,2,4,5,5,6])\n",
    "arr\n"
   ]
  },
  {
   "cell_type": "code",
   "execution_count": 3,
   "id": "15b3af20-a427-406c-8515-d40930dda279",
   "metadata": {},
   "outputs": [
    {
     "data": {
      "text/plain": [
       "array([1, 2, 3, 4, 5, 4])"
      ]
     },
     "execution_count": 3,
     "metadata": {},
     "output_type": "execute_result"
    }
   ],
   "source": [
    "#You Can create and array by using a tuple \n",
    "\n",
    "my_tuple = (1,2,3,4,5,4)\n",
    "New_array = np.array(my_tuple)\n",
    "New_array"
   ]
  },
  {
   "cell_type": "code",
   "execution_count": 15,
   "id": "16f64143-9f61-4b46-b962-5b29782b0cf4",
   "metadata": {},
   "outputs": [
    {
     "name": "stdout",
     "output_type": "stream",
     "text": [
      "-scalar: 23\n",
      "-Vector : [1 2 3 4 5]\n",
      "Matrix: [[1 2 3 4]\n",
      " [4 5 6 7]]\n",
      "3 order tensor: [[[ 1  2  3  4]\n",
      "  [ 4  5  6  7]]\n",
      "\n",
      " [[ 8  9 10 11]\n",
      "  [12 13 14 15]]]\n"
     ]
    }
   ],
   "source": [
    "#Create array\n",
    "\n",
    "#scalar : 0-D array \n",
    "scalar = np.array(23)\n",
    "print(\"-scalar:\",scalar)\n",
    "\n",
    "#Vector : 1-D array \n",
    "vector = np.array([1,2,3,4,5])\n",
    "print(\"-Vector :\",vector)\n",
    "\n",
    "#Matric : 2-D array  or tensor of 2 order \n",
    "matrix = np.array([[1,2,3,4],[4,5,6,7]])\n",
    "print(\"Matrix:\",matrix)\n",
    "\n",
    "#Matric : 3-D array  or tensor of 3 order \n",
    "tensor = np.array([[[1,2,3,4],[4,5,6,7]],[[8,9,10,11],[12,13,14,15]]])\n",
    "print(\"3 order tensor:\",tensor)"
   ]
  },
  {
   "cell_type": "code",
   "execution_count": 16,
   "id": "7eb6247b-54e3-4d62-a5bc-10ad3dea758c",
   "metadata": {},
   "outputs": [
    {
     "name": "stdout",
     "output_type": "stream",
     "text": [
      "Scalar: 0\n",
      "Vector: 1\n",
      "Matric: 2\n",
      "3- Order tensor: 3\n"
     ]
    }
   ],
   "source": [
    "#To check te dimention of tensor ( n- order array ) \n",
    "print(\"Scalar:\",scalar.ndim)\n",
    "print(\"Vector:\",vector.ndim)\n",
    "print(\"Matric:\",matrix.ndim)\n",
    "print(\"3- Order tensor:\",tensor.ndim)"
   ]
  },
  {
   "cell_type": "code",
   "execution_count": 21,
   "id": "d7fd004c-d51a-4e08-a878-d5f9ae56db79",
   "metadata": {},
   "outputs": [
    {
     "data": {
      "text/plain": [
       "4"
      ]
     },
     "execution_count": 21,
     "metadata": {},
     "output_type": "execute_result"
    }
   ],
   "source": [
    "#Indexing : Access Array Elements \n",
    "\n",
    "\n",
    "a = np.array([1,2,3,4,5])\n",
    "a[0] #To retrive the first element of array \n",
    "\n",
    "#To acces 2-D array ( Matrix , or 2nd order tensor ) \n",
    "\n",
    "my_Array = np.array([[1,2,3,5],[2,4,6,7]])\n",
    "my_Array[1,1] # To retrive 4\n"
   ]
  },
  {
   "cell_type": "code",
   "execution_count": 30,
   "id": "a6c66413-acde-4126-abe6-ddb48e1baa17",
   "metadata": {},
   "outputs": [
    {
     "name": "stdout",
     "output_type": "stream",
     "text": [
      "- From the second element to the fourth: [2 3]\n",
      "- Print the last element of the vector : 5\n",
      "- From the 2nd element to the end: [2 3 4 5]\n",
      "- Elements from index 1 to index 4 with step 2 : [2 4]\n"
     ]
    }
   ],
   "source": [
    "#Slicing arrays : \n",
    "\n",
    "v = np.array([1,2,3,4,5])\n",
    "print(\"- From the second element to the fourth:\",v[1:3]) \n",
    "\n",
    "print(\"- Print the last element of the vector :\",v[-1]) #Print the last element of the list \n",
    "print(\"- From the 2nd element to the end:\",v[1:])\n",
    "print(\"- Elements from index 1 to index 4 with step 2 :\",v[1:4:2])"
   ]
  },
  {
   "cell_type": "code",
   "execution_count": 36,
   "id": "8116c404-b48f-4cb6-a417-92751c220187",
   "metadata": {},
   "outputs": [
    {
     "name": "stdout",
     "output_type": "stream",
     "text": [
      "Data: int64\n",
      "Data2: float64\n",
      "data3: float64\n"
     ]
    }
   ],
   "source": [
    "#Data type\n",
    "\n",
    "Data =np.array([1,2,3,4,5])\n",
    "print(\"Data:\",Data.dtype)\n",
    "\n",
    "Data2=np.array([2,3,4,5,6,5] , dtype=\"float\") #You can define dtype\n",
    "print(\"Data2:\",Data2.dtype)\n",
    "\n",
    "\n",
    "#Converting Data Type on Existing Arrays\n",
    "\n",
    "Data3 = Data.astype(\"float\")\n",
    "print(\"data3:\",Data3.dtype)"
   ]
  },
  {
   "cell_type": "code",
   "execution_count": 40,
   "id": "ee79291c-c528-408d-b990-8a13267e0434",
   "metadata": {},
   "outputs": [
    {
     "data": {
      "text/plain": [
       "(2, 5)"
      ]
     },
     "execution_count": 40,
     "metadata": {},
     "output_type": "execute_result"
    }
   ],
   "source": [
    "#Shape\n",
    "\n",
    "# Shape is te number of elements in array \n",
    "\n",
    "a_arr = np.array([[1,3,4,5,6],[2,34,5,6,7]])\n",
    "a_arr.shape #2 rows and 5 columns : 2 x 5 array"
   ]
  },
  {
   "cell_type": "code",
   "execution_count": 50,
   "id": "65f4af67-06cd-4ad6-b318-9441c92ab4bc",
   "metadata": {},
   "outputs": [
    {
     "name": "stdout",
     "output_type": "stream",
     "text": [
      "[ 1  2  3  4  5  6  7  8  9 10 11 12]\n",
      "[[ 1  2  3]\n",
      " [ 4  5  6]\n",
      " [ 7  8  9]\n",
      " [10 11 12]]\n"
     ]
    }
   ],
   "source": [
    "#Reshape : \n",
    "\n",
    "arr = np.array([1, 2, 3, 4, 5, 6, 7, 8, 9, 10, 11, 12])\n",
    "\n",
    "newarr = arr.reshape(4, 3) #Reshape into array of 4 x 3 : 4 rows and 3 columns\n",
    "\n",
    "print(arr)\n",
    "print(newarr)"
   ]
  },
  {
   "cell_type": "code",
   "execution_count": 55,
   "id": "0f5567ba-efc1-404e-af77-14a0b3528489",
   "metadata": {},
   "outputs": [
    {
     "name": "stdout",
     "output_type": "stream",
     "text": [
      "[1 2 3 4 5 4 5 6 7 8]\n"
     ]
    }
   ],
   "source": [
    "#Joining NumPy Arrays \n",
    "\n",
    "arr1 = np.array([1,2,3,4,5])\n",
    "arr2 = np.array([4,5,6,7,8])\n",
    "\n",
    "arr = np.concatenate((arr1,arr2))\n",
    "print(arr)"
   ]
  },
  {
   "cell_type": "code",
   "execution_count": 58,
   "id": "29430f51-74ea-4b9b-9788-6222326d4a69",
   "metadata": {},
   "outputs": [
    {
     "data": {
      "text/plain": [
       "43"
      ]
     },
     "execution_count": 58,
     "metadata": {},
     "output_type": "execute_result"
    }
   ],
   "source": [
    "#Generate Random Number\n",
    "from numpy import random\n",
    "\n",
    "#Genearate a random element from 1 to 100 \n",
    "x = random.randint(100)\n",
    "x"
   ]
  },
  {
   "cell_type": "code",
   "execution_count": 7,
   "id": "ddf564cf-6d51-4761-950e-54c136726a30",
   "metadata": {},
   "outputs": [
    {
     "data": {
      "image/png": "[encoded data removed]",
      "text/plain": [
       "<Figure size 640x480 with 1 Axes>"
      ]
     },
     "metadata": {},
     "output_type": "display_data"
    }
   ],
   "source": [
    "#Visualize Distributions With Seaborn\n",
    "\n",
    "import matplotlib.pyplot as plt\n",
    "import seaborn as sns\n",
    "\n",
    "sns.distplot([0, 1, 2, 3, 4, 5])\n",
    "\n",
    "plt.show()"
   ]
  },
  {
   "cell_type": "code",
   "execution_count": 9,
   "id": "6d8a068c-0749-4b0f-aba3-172594cd2883",
   "metadata": {},
   "outputs": [
    {
     "name": "stdout",
     "output_type": "stream",
     "text": [
      "[[ 0.99303201  0.62953998  0.90605593]\n",
      " [-1.3552266   0.35463344 -0.22038673]]\n"
     ]
    },
    {
     "data": {
      "image/png": "[encoded data removed]",
      "text/plain": [
       "<Figure size 640x480 with 1 Axes>"
      ]
     },
     "metadata": {},
     "output_type": "display_data"
    }
   ],
   "source": [
    "#Normal distribution\n",
    "from numpy import random\n",
    "\n",
    "x = random.normal(size=(2,3))\n",
    "print(x)\n",
    "\n",
    "\n",
    "from numpy import random\n",
    "import matplotlib.pyplot as plt\n",
    "import seaborn as sns\n",
    "\n",
    "sns.distplot(random.normal(size=1000), hist=False)\n",
    "\n",
    "plt.show()"
   ]
  },
  {
   "cell_type": "code",
   "execution_count": 10,
   "id": "3e1e8df1-42c2-4e9c-9263-ead3b89672cc",
   "metadata": {},
   "outputs": [
    {
     "name": "stdout",
     "output_type": "stream",
     "text": [
      "[[0.52920985 0.5612068  0.90101773]\n",
      " [1.98141291 1.24873339 1.31930104]]\n"
     ]
    }
   ],
   "source": [
    "from numpy import random\n",
    "\n",
    "x = random.chisquare(df=2, size=(2, 3))\n",
    "\n",
    "print(x)"
   ]
  },
  {
   "cell_type": "code",
   "execution_count": null,
   "id": "dd3ca9b5-681a-4684-822e-14e1e0f4fa2c",
   "metadata": {},
   "outputs": [],
   "source": []
  },
  {
   "cell_type": "code",
   "execution_count": null,
   "id": "6502bc48-d749-4116-a5f9-b5bc506aaf6a",
   "metadata": {},
   "outputs": [],
   "source": []
  },
  {
   "cell_type": "code",
   "execution_count": null,
   "id": "114ec7e8-71a5-4903-b4fe-974449fb3054",
   "metadata": {},
   "outputs": [],
   "source": []
  },
  {
   "cell_type": "code",
   "execution_count": null,
   "id": "8558f5f8-df0b-455e-9d7e-aaed91af34d0",
   "metadata": {},
   "outputs": [],
   "source": []
  },
  {
   "cell_type": "code",
   "execution_count": null,
   "id": "a130f1c7-4522-48d2-a2d7-124f4d9e6ab3",
   "metadata": {},
   "outputs": [],
   "source": []
  },
  {
   "cell_type": "code",
   "execution_count": null,
   "id": "31024358-5f44-49ba-a904-cc3d3e297d32",
   "metadata": {},
   "outputs": [],
   "source": []
  },
  {
   "cell_type": "code",
   "execution_count": null,
   "id": "af306be0-cec0-4db2-8887-971b08a8632e",
   "metadata": {},
   "outputs": [],
   "source": []
  },
  {
   "cell_type": "code",
   "execution_count": null,
   "id": "c596b15d-4e73-4697-a455-c6bd191e8fda",
   "metadata": {},
   "outputs": [],
   "source": []
  },
  {
   "cell_type": "code",
   "execution_count": null,
   "id": "d356177e-f361-47b5-aaf4-63feadb3ddef",
   "metadata": {},
   "outputs": [],
   "source": []
  },
  {
   "cell_type": "code",
   "execution_count": null,
   "id": "a2d00c09-6c0c-4d23-b876-dba44b238acc",
   "metadata": {},
   "outputs": [],
   "source": []
  },
  {
   "cell_type": "code",
   "execution_count": null,
   "id": "88863124-663e-4db2-b7e9-a1e4ea60b28c",
   "metadata": {},
   "outputs": [],
   "source": []
  },
  {
   "cell_type": "code",
   "execution_count": null,
   "id": "6daa3fe5-830f-4958-a231-4945cf68fbe0",
   "metadata": {},
   "outputs": [],
   "source": []
  }
 ],
 "metadata": {
  "kernelspec": {
   "display_name": "Python 3 (ipykernel)",
   "language": "python",
   "name": "python3"
  },
  "language_info": {
   "codemirror_mode": {
    "name": "ipython",
    "version": 3
   },
   "file_extension": ".py",
   "mimetype": "text/x-python",
   "name": "python",
   "nbconvert_exporter": "python",
   "pygments_lexer": "ipython3",
   "version": "3.11.5"
  }
 },
 "nbformat": 4,
 "nbformat_minor": 5
}
